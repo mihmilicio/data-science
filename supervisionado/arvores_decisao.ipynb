{
 "cells": [
  {
   "cell_type": "markdown",
   "metadata": {},
   "source": [
    "# Árvores de Decisão"
   ]
  },
  {
   "cell_type": "code",
   "execution_count": 1,
   "metadata": {},
   "outputs": [
    {
     "data": {
      "text/html": [
       "<div>\n",
       "<style scoped>\n",
       "    .dataframe tbody tr th:only-of-type {\n",
       "        vertical-align: middle;\n",
       "    }\n",
       "\n",
       "    .dataframe tbody tr th {\n",
       "        vertical-align: top;\n",
       "    }\n",
       "\n",
       "    .dataframe thead th {\n",
       "        text-align: right;\n",
       "    }\n",
       "</style>\n",
       "<table border=\"1\" class=\"dataframe\">\n",
       "  <thead>\n",
       "    <tr style=\"text-align: right;\">\n",
       "      <th></th>\n",
       "      <th>YearlyWageInDollar</th>\n",
       "      <th>YearsCodeNumber</th>\n",
       "      <th>YearsCodeProNumber</th>\n",
       "      <th>EdLevel_associate</th>\n",
       "      <th>EdLevel_bachelor</th>\n",
       "      <th>EdLevel_doctor</th>\n",
       "      <th>EdLevel_high_school</th>\n",
       "      <th>EdLevel_master</th>\n",
       "      <th>EdLevel_primary_school</th>\n",
       "      <th>EdLevel_professional</th>\n",
       "      <th>EdLevel_unfinished_college</th>\n",
       "      <th>Country_australia</th>\n",
       "      <th>Country_brazil</th>\n",
       "      <th>Country_canada</th>\n",
       "      <th>Country_france</th>\n",
       "      <th>Country_germany</th>\n",
       "      <th>Country_india</th>\n",
       "      <th>Country_italy</th>\n",
       "      <th>Country_netherlands</th>\n",
       "      <th>Country_poland</th>\n",
       "      <th>Country_spain</th>\n",
       "      <th>Country_united_kingdom_of_great_britain_and_northern_ireland</th>\n",
       "      <th>Country_united_states_of_america</th>\n",
       "      <th>Currency_AED</th>\n",
       "      <th>Currency_AUD</th>\n",
       "      <th>Currency_AZN</th>\n",
       "      <th>Currency_BDT</th>\n",
       "      <th>Currency_BRL</th>\n",
       "      <th>Currency_CAD</th>\n",
       "      <th>Currency_CHF</th>\n",
       "      <th>Currency_CZK</th>\n",
       "      <th>Currency_DJF</th>\n",
       "      <th>Currency_EUR</th>\n",
       "      <th>Currency_GBP</th>\n",
       "      <th>Currency_GIP</th>\n",
       "      <th>Currency_IDR</th>\n",
       "      <th>Currency_IMP</th>\n",
       "      <th>Currency_INR</th>\n",
       "      <th>Currency_IRR</th>\n",
       "      <th>Currency_JPY</th>\n",
       "      <th>Currency_KYD</th>\n",
       "      <th>Currency_MAD</th>\n",
       "      <th>Currency_NOK</th>\n",
       "      <th>Currency_NZD</th>\n",
       "      <th>Currency_PLN</th>\n",
       "      <th>Currency_SAR</th>\n",
       "      <th>Currency_TND</th>\n",
       "      <th>Currency_UGX</th>\n",
       "      <th>Currency_USD</th>\n",
       "      <th>Currency_XPF</th>\n",
       "    </tr>\n",
       "  </thead>\n",
       "  <tbody>\n",
       "    <tr>\n",
       "      <th>0</th>\n",
       "      <td>10.601747</td>\n",
       "      <td>14.0</td>\n",
       "      <td>5.0</td>\n",
       "      <td>0.0</td>\n",
       "      <td>0.0</td>\n",
       "      <td>0.0</td>\n",
       "      <td>0.0</td>\n",
       "      <td>1.0</td>\n",
       "      <td>0.0</td>\n",
       "      <td>0.0</td>\n",
       "      <td>0.0</td>\n",
       "      <td>0.0</td>\n",
       "      <td>0.0</td>\n",
       "      <td>0.0</td>\n",
       "      <td>0.0</td>\n",
       "      <td>0.0</td>\n",
       "      <td>0.0</td>\n",
       "      <td>0.0</td>\n",
       "      <td>0.0</td>\n",
       "      <td>0.0</td>\n",
       "      <td>0.0</td>\n",
       "      <td>1.0</td>\n",
       "      <td>0.0</td>\n",
       "      <td>0.0</td>\n",
       "      <td>0.0</td>\n",
       "      <td>0.0</td>\n",
       "      <td>0.0</td>\n",
       "      <td>0.0</td>\n",
       "      <td>0.0</td>\n",
       "      <td>0.0</td>\n",
       "      <td>0.0</td>\n",
       "      <td>0.0</td>\n",
       "      <td>0.0</td>\n",
       "      <td>1.0</td>\n",
       "      <td>0.0</td>\n",
       "      <td>0.0</td>\n",
       "      <td>0.0</td>\n",
       "      <td>0.0</td>\n",
       "      <td>0.0</td>\n",
       "      <td>0.0</td>\n",
       "      <td>0.0</td>\n",
       "      <td>0.0</td>\n",
       "      <td>0.0</td>\n",
       "      <td>0.0</td>\n",
       "      <td>0.0</td>\n",
       "      <td>0.0</td>\n",
       "      <td>0.0</td>\n",
       "      <td>0.0</td>\n",
       "      <td>0.0</td>\n",
       "      <td>0.0</td>\n",
       "    </tr>\n",
       "    <tr>\n",
       "      <th>1</th>\n",
       "      <td>10.800718</td>\n",
       "      <td>6.0</td>\n",
       "      <td>6.0</td>\n",
       "      <td>0.0</td>\n",
       "      <td>0.0</td>\n",
       "      <td>0.0</td>\n",
       "      <td>0.0</td>\n",
       "      <td>1.0</td>\n",
       "      <td>0.0</td>\n",
       "      <td>0.0</td>\n",
       "      <td>0.0</td>\n",
       "      <td>0.0</td>\n",
       "      <td>0.0</td>\n",
       "      <td>0.0</td>\n",
       "      <td>0.0</td>\n",
       "      <td>0.0</td>\n",
       "      <td>0.0</td>\n",
       "      <td>0.0</td>\n",
       "      <td>1.0</td>\n",
       "      <td>0.0</td>\n",
       "      <td>0.0</td>\n",
       "      <td>0.0</td>\n",
       "      <td>0.0</td>\n",
       "      <td>0.0</td>\n",
       "      <td>0.0</td>\n",
       "      <td>0.0</td>\n",
       "      <td>0.0</td>\n",
       "      <td>0.0</td>\n",
       "      <td>0.0</td>\n",
       "      <td>0.0</td>\n",
       "      <td>0.0</td>\n",
       "      <td>0.0</td>\n",
       "      <td>1.0</td>\n",
       "      <td>0.0</td>\n",
       "      <td>0.0</td>\n",
       "      <td>0.0</td>\n",
       "      <td>0.0</td>\n",
       "      <td>0.0</td>\n",
       "      <td>0.0</td>\n",
       "      <td>0.0</td>\n",
       "      <td>0.0</td>\n",
       "      <td>0.0</td>\n",
       "      <td>0.0</td>\n",
       "      <td>0.0</td>\n",
       "      <td>0.0</td>\n",
       "      <td>0.0</td>\n",
       "      <td>0.0</td>\n",
       "      <td>0.0</td>\n",
       "      <td>0.0</td>\n",
       "      <td>0.0</td>\n",
       "    </tr>\n",
       "    <tr>\n",
       "      <th>2</th>\n",
       "      <td>11.007203</td>\n",
       "      <td>5.0</td>\n",
       "      <td>2.0</td>\n",
       "      <td>0.0</td>\n",
       "      <td>1.0</td>\n",
       "      <td>0.0</td>\n",
       "      <td>0.0</td>\n",
       "      <td>0.0</td>\n",
       "      <td>0.0</td>\n",
       "      <td>0.0</td>\n",
       "      <td>0.0</td>\n",
       "      <td>0.0</td>\n",
       "      <td>0.0</td>\n",
       "      <td>0.0</td>\n",
       "      <td>0.0</td>\n",
       "      <td>0.0</td>\n",
       "      <td>0.0</td>\n",
       "      <td>0.0</td>\n",
       "      <td>0.0</td>\n",
       "      <td>0.0</td>\n",
       "      <td>0.0</td>\n",
       "      <td>1.0</td>\n",
       "      <td>0.0</td>\n",
       "      <td>0.0</td>\n",
       "      <td>0.0</td>\n",
       "      <td>0.0</td>\n",
       "      <td>0.0</td>\n",
       "      <td>0.0</td>\n",
       "      <td>0.0</td>\n",
       "      <td>0.0</td>\n",
       "      <td>0.0</td>\n",
       "      <td>0.0</td>\n",
       "      <td>0.0</td>\n",
       "      <td>1.0</td>\n",
       "      <td>0.0</td>\n",
       "      <td>0.0</td>\n",
       "      <td>0.0</td>\n",
       "      <td>0.0</td>\n",
       "      <td>0.0</td>\n",
       "      <td>0.0</td>\n",
       "      <td>0.0</td>\n",
       "      <td>0.0</td>\n",
       "      <td>0.0</td>\n",
       "      <td>0.0</td>\n",
       "      <td>0.0</td>\n",
       "      <td>0.0</td>\n",
       "      <td>0.0</td>\n",
       "      <td>0.0</td>\n",
       "      <td>0.0</td>\n",
       "      <td>0.0</td>\n",
       "    </tr>\n",
       "    <tr>\n",
       "      <th>3</th>\n",
       "      <td>12.177673</td>\n",
       "      <td>12.0</td>\n",
       "      <td>10.0</td>\n",
       "      <td>0.0</td>\n",
       "      <td>1.0</td>\n",
       "      <td>0.0</td>\n",
       "      <td>0.0</td>\n",
       "      <td>0.0</td>\n",
       "      <td>0.0</td>\n",
       "      <td>0.0</td>\n",
       "      <td>0.0</td>\n",
       "      <td>0.0</td>\n",
       "      <td>0.0</td>\n",
       "      <td>0.0</td>\n",
       "      <td>0.0</td>\n",
       "      <td>0.0</td>\n",
       "      <td>0.0</td>\n",
       "      <td>0.0</td>\n",
       "      <td>0.0</td>\n",
       "      <td>0.0</td>\n",
       "      <td>0.0</td>\n",
       "      <td>0.0</td>\n",
       "      <td>1.0</td>\n",
       "      <td>0.0</td>\n",
       "      <td>0.0</td>\n",
       "      <td>0.0</td>\n",
       "      <td>0.0</td>\n",
       "      <td>0.0</td>\n",
       "      <td>0.0</td>\n",
       "      <td>0.0</td>\n",
       "      <td>0.0</td>\n",
       "      <td>0.0</td>\n",
       "      <td>0.0</td>\n",
       "      <td>0.0</td>\n",
       "      <td>0.0</td>\n",
       "      <td>0.0</td>\n",
       "      <td>0.0</td>\n",
       "      <td>0.0</td>\n",
       "      <td>0.0</td>\n",
       "      <td>0.0</td>\n",
       "      <td>0.0</td>\n",
       "      <td>0.0</td>\n",
       "      <td>0.0</td>\n",
       "      <td>0.0</td>\n",
       "      <td>0.0</td>\n",
       "      <td>0.0</td>\n",
       "      <td>0.0</td>\n",
       "      <td>0.0</td>\n",
       "      <td>1.0</td>\n",
       "      <td>0.0</td>\n",
       "    </tr>\n",
       "    <tr>\n",
       "      <th>4</th>\n",
       "      <td>11.082143</td>\n",
       "      <td>12.0</td>\n",
       "      <td>5.0</td>\n",
       "      <td>0.0</td>\n",
       "      <td>1.0</td>\n",
       "      <td>0.0</td>\n",
       "      <td>0.0</td>\n",
       "      <td>0.0</td>\n",
       "      <td>0.0</td>\n",
       "      <td>0.0</td>\n",
       "      <td>0.0</td>\n",
       "      <td>0.0</td>\n",
       "      <td>0.0</td>\n",
       "      <td>0.0</td>\n",
       "      <td>0.0</td>\n",
       "      <td>0.0</td>\n",
       "      <td>0.0</td>\n",
       "      <td>0.0</td>\n",
       "      <td>0.0</td>\n",
       "      <td>0.0</td>\n",
       "      <td>0.0</td>\n",
       "      <td>0.0</td>\n",
       "      <td>1.0</td>\n",
       "      <td>0.0</td>\n",
       "      <td>0.0</td>\n",
       "      <td>0.0</td>\n",
       "      <td>0.0</td>\n",
       "      <td>0.0</td>\n",
       "      <td>0.0</td>\n",
       "      <td>0.0</td>\n",
       "      <td>0.0</td>\n",
       "      <td>0.0</td>\n",
       "      <td>0.0</td>\n",
       "      <td>0.0</td>\n",
       "      <td>0.0</td>\n",
       "      <td>0.0</td>\n",
       "      <td>0.0</td>\n",
       "      <td>0.0</td>\n",
       "      <td>0.0</td>\n",
       "      <td>0.0</td>\n",
       "      <td>0.0</td>\n",
       "      <td>0.0</td>\n",
       "      <td>0.0</td>\n",
       "      <td>0.0</td>\n",
       "      <td>0.0</td>\n",
       "      <td>0.0</td>\n",
       "      <td>0.0</td>\n",
       "      <td>0.0</td>\n",
       "      <td>1.0</td>\n",
       "      <td>0.0</td>\n",
       "    </tr>\n",
       "  </tbody>\n",
       "</table>\n",
       "</div>"
      ],
      "text/plain": [
       "   YearlyWageInDollar  YearsCodeNumber  YearsCodeProNumber  EdLevel_associate  \\\n",
       "0           10.601747             14.0                 5.0                0.0   \n",
       "1           10.800718              6.0                 6.0                0.0   \n",
       "2           11.007203              5.0                 2.0                0.0   \n",
       "3           12.177673             12.0                10.0                0.0   \n",
       "4           11.082143             12.0                 5.0                0.0   \n",
       "\n",
       "   EdLevel_bachelor  EdLevel_doctor  EdLevel_high_school  EdLevel_master  \\\n",
       "0               0.0             0.0                  0.0             1.0   \n",
       "1               0.0             0.0                  0.0             1.0   \n",
       "2               1.0             0.0                  0.0             0.0   \n",
       "3               1.0             0.0                  0.0             0.0   \n",
       "4               1.0             0.0                  0.0             0.0   \n",
       "\n",
       "   EdLevel_primary_school  EdLevel_professional  EdLevel_unfinished_college  \\\n",
       "0                     0.0                   0.0                         0.0   \n",
       "1                     0.0                   0.0                         0.0   \n",
       "2                     0.0                   0.0                         0.0   \n",
       "3                     0.0                   0.0                         0.0   \n",
       "4                     0.0                   0.0                         0.0   \n",
       "\n",
       "   Country_australia  Country_brazil  Country_canada  Country_france  \\\n",
       "0                0.0             0.0             0.0             0.0   \n",
       "1                0.0             0.0             0.0             0.0   \n",
       "2                0.0             0.0             0.0             0.0   \n",
       "3                0.0             0.0             0.0             0.0   \n",
       "4                0.0             0.0             0.0             0.0   \n",
       "\n",
       "   Country_germany  Country_india  Country_italy  Country_netherlands  \\\n",
       "0              0.0            0.0            0.0                  0.0   \n",
       "1              0.0            0.0            0.0                  1.0   \n",
       "2              0.0            0.0            0.0                  0.0   \n",
       "3              0.0            0.0            0.0                  0.0   \n",
       "4              0.0            0.0            0.0                  0.0   \n",
       "\n",
       "   Country_poland  Country_spain  \\\n",
       "0             0.0            0.0   \n",
       "1             0.0            0.0   \n",
       "2             0.0            0.0   \n",
       "3             0.0            0.0   \n",
       "4             0.0            0.0   \n",
       "\n",
       "   Country_united_kingdom_of_great_britain_and_northern_ireland  \\\n",
       "0                                                1.0              \n",
       "1                                                0.0              \n",
       "2                                                1.0              \n",
       "3                                                0.0              \n",
       "4                                                0.0              \n",
       "\n",
       "   Country_united_states_of_america  Currency_AED  Currency_AUD  Currency_AZN  \\\n",
       "0                               0.0           0.0           0.0           0.0   \n",
       "1                               0.0           0.0           0.0           0.0   \n",
       "2                               0.0           0.0           0.0           0.0   \n",
       "3                               1.0           0.0           0.0           0.0   \n",
       "4                               1.0           0.0           0.0           0.0   \n",
       "\n",
       "   Currency_BDT  Currency_BRL  Currency_CAD  Currency_CHF  Currency_CZK  \\\n",
       "0           0.0           0.0           0.0           0.0           0.0   \n",
       "1           0.0           0.0           0.0           0.0           0.0   \n",
       "2           0.0           0.0           0.0           0.0           0.0   \n",
       "3           0.0           0.0           0.0           0.0           0.0   \n",
       "4           0.0           0.0           0.0           0.0           0.0   \n",
       "\n",
       "   Currency_DJF  Currency_EUR  Currency_GBP  Currency_GIP  Currency_IDR  \\\n",
       "0           0.0           0.0           1.0           0.0           0.0   \n",
       "1           0.0           1.0           0.0           0.0           0.0   \n",
       "2           0.0           0.0           1.0           0.0           0.0   \n",
       "3           0.0           0.0           0.0           0.0           0.0   \n",
       "4           0.0           0.0           0.0           0.0           0.0   \n",
       "\n",
       "   Currency_IMP  Currency_INR  Currency_IRR  Currency_JPY  Currency_KYD  \\\n",
       "0           0.0           0.0           0.0           0.0           0.0   \n",
       "1           0.0           0.0           0.0           0.0           0.0   \n",
       "2           0.0           0.0           0.0           0.0           0.0   \n",
       "3           0.0           0.0           0.0           0.0           0.0   \n",
       "4           0.0           0.0           0.0           0.0           0.0   \n",
       "\n",
       "   Currency_MAD  Currency_NOK  Currency_NZD  Currency_PLN  Currency_SAR  \\\n",
       "0           0.0           0.0           0.0           0.0           0.0   \n",
       "1           0.0           0.0           0.0           0.0           0.0   \n",
       "2           0.0           0.0           0.0           0.0           0.0   \n",
       "3           0.0           0.0           0.0           0.0           0.0   \n",
       "4           0.0           0.0           0.0           0.0           0.0   \n",
       "\n",
       "   Currency_TND  Currency_UGX  Currency_USD  Currency_XPF  \n",
       "0           0.0           0.0           0.0           0.0  \n",
       "1           0.0           0.0           0.0           0.0  \n",
       "2           0.0           0.0           0.0           0.0  \n",
       "3           0.0           0.0           1.0           0.0  \n",
       "4           0.0           0.0           1.0           0.0  "
      ]
     },
     "execution_count": 1,
     "metadata": {},
     "output_type": "execute_result"
    }
   ],
   "source": [
    "import numpy as np\n",
    "import pandas as pd\n",
    "import warnings\n",
    "warnings.filterwarnings(\"ignore\")\n",
    "\n",
    "pd.set_option('display.max_columns', None)\n",
    "\n",
    "df = pd.read_csv('../normalizacao/survey_results_salary_numeric.csv', sep=',', encoding='utf-8', index_col=0)\n",
    "df.head()"
   ]
  },
  {
   "cell_type": "markdown",
   "metadata": {},
   "source": [
    "## Conversão das variáveis categóricas para numéricas\n",
    "\n",
    "No arquivo `normalizacao/conversao_categorias.ipynb`."
   ]
  },
  {
   "cell_type": "markdown",
   "metadata": {},
   "source": [
    "## Atributos Previsores e Alvo"
   ]
  },
  {
   "cell_type": "code",
   "execution_count": 2,
   "metadata": {},
   "outputs": [
    {
     "data": {
      "text/plain": [
       "array([[10.60174664, 14.        ,  5.        , ...,  0.        ,\n",
       "         0.        ,  0.        ],\n",
       "       [10.80071778,  6.        ,  6.        , ...,  0.        ,\n",
       "         0.        ,  0.        ],\n",
       "       [11.00720346,  5.        ,  2.        , ...,  0.        ,\n",
       "         0.        ,  0.        ],\n",
       "       ...,\n",
       "       [11.15625052,  5.        ,  1.        , ...,  0.        ,\n",
       "         0.        ,  0.        ],\n",
       "       [10.46857406,  6.        ,  2.        , ...,  0.        ,\n",
       "         0.        ,  0.        ],\n",
       "       [11.23035033, 10.        ,  3.        , ...,  0.        ,\n",
       "         0.        ,  0.        ]])"
      ]
     },
     "execution_count": 2,
     "metadata": {},
     "output_type": "execute_result"
    }
   ],
   "source": [
    "previsores = df.iloc[:, 0:11].values\n",
    "previsores"
   ]
  },
  {
   "cell_type": "code",
   "execution_count": 3,
   "metadata": {},
   "outputs": [
    {
     "data": {
      "text/plain": [
       "(23265, 11)"
      ]
     },
     "execution_count": 3,
     "metadata": {},
     "output_type": "execute_result"
    }
   ],
   "source": [
    "previsores.shape"
   ]
  },
  {
   "cell_type": "code",
   "execution_count": 4,
   "metadata": {},
   "outputs": [
    {
     "data": {
      "text/plain": [
       "array([0., 0., 0., ..., 0., 0., 0.])"
      ]
     },
     "execution_count": 4,
     "metadata": {},
     "output_type": "execute_result"
    }
   ],
   "source": [
    "alvo = df.iloc[:, 11].values\n",
    "alvo"
   ]
  },
  {
   "cell_type": "code",
   "execution_count": 5,
   "metadata": {},
   "outputs": [
    {
     "data": {
      "text/plain": [
       "(23265,)"
      ]
     },
     "execution_count": 5,
     "metadata": {},
     "output_type": "execute_result"
    }
   ],
   "source": [
    "alvo.shape"
   ]
  },
  {
   "cell_type": "markdown",
   "metadata": {},
   "source": [
    "## Escalonamento"
   ]
  },
  {
   "cell_type": "code",
   "execution_count": 6,
   "metadata": {},
   "outputs": [
    {
     "data": {
      "text/plain": [
       "array([[-0.62796176, -0.14390853, -0.64732633, ..., -0.06019682,\n",
       "        -0.11715584, -0.35677649],\n",
       "       [-0.43315232, -0.96284862, -0.53030055, ..., -0.06019682,\n",
       "        -0.11715584, -0.35677649],\n",
       "       [-0.23098552, -1.06521613, -0.99840366, ..., -0.06019682,\n",
       "        -0.11715584, -0.35677649],\n",
       "       ...,\n",
       "       [-0.08505594, -1.06521613, -1.11542943, ..., -0.06019682,\n",
       "        -0.11715584, -0.35677649],\n",
       "       [-0.75834889, -0.96284862, -0.99840366, ..., -0.06019682,\n",
       "        -0.11715584, -0.35677649],\n",
       "       [-0.01250602, -0.55337857, -0.88137788, ..., -0.06019682,\n",
       "        -0.11715584, -0.35677649]])"
      ]
     },
     "execution_count": 6,
     "metadata": {},
     "output_type": "execute_result"
    }
   ],
   "source": [
    "from sklearn.preprocessing import StandardScaler\n",
    "\n",
    "previsores_esc = StandardScaler().fit_transform(previsores)\n",
    "previsores_esc"
   ]
  },
  {
   "cell_type": "code",
   "execution_count": 7,
   "metadata": {},
   "outputs": [
    {
     "data": {
      "text/html": [
       "<div>\n",
       "<style scoped>\n",
       "    .dataframe tbody tr th:only-of-type {\n",
       "        vertical-align: middle;\n",
       "    }\n",
       "\n",
       "    .dataframe tbody tr th {\n",
       "        vertical-align: top;\n",
       "    }\n",
       "\n",
       "    .dataframe thead th {\n",
       "        text-align: right;\n",
       "    }\n",
       "</style>\n",
       "<table border=\"1\" class=\"dataframe\">\n",
       "  <thead>\n",
       "    <tr style=\"text-align: right;\">\n",
       "      <th></th>\n",
       "      <th>0</th>\n",
       "      <th>1</th>\n",
       "      <th>2</th>\n",
       "      <th>3</th>\n",
       "      <th>4</th>\n",
       "      <th>5</th>\n",
       "      <th>6</th>\n",
       "      <th>7</th>\n",
       "      <th>8</th>\n",
       "      <th>9</th>\n",
       "      <th>10</th>\n",
       "    </tr>\n",
       "  </thead>\n",
       "  <tbody>\n",
       "    <tr>\n",
       "      <th>0</th>\n",
       "      <td>-0.627962</td>\n",
       "      <td>-0.143909</td>\n",
       "      <td>-0.647326</td>\n",
       "      <td>-0.194257</td>\n",
       "      <td>-0.967225</td>\n",
       "      <td>-0.208585</td>\n",
       "      <td>-0.213364</td>\n",
       "      <td>1.665450</td>\n",
       "      <td>-0.060197</td>\n",
       "      <td>-0.117156</td>\n",
       "      <td>-0.356776</td>\n",
       "    </tr>\n",
       "    <tr>\n",
       "      <th>1</th>\n",
       "      <td>-0.433152</td>\n",
       "      <td>-0.962849</td>\n",
       "      <td>-0.530301</td>\n",
       "      <td>-0.194257</td>\n",
       "      <td>-0.967225</td>\n",
       "      <td>-0.208585</td>\n",
       "      <td>-0.213364</td>\n",
       "      <td>1.665450</td>\n",
       "      <td>-0.060197</td>\n",
       "      <td>-0.117156</td>\n",
       "      <td>-0.356776</td>\n",
       "    </tr>\n",
       "    <tr>\n",
       "      <th>2</th>\n",
       "      <td>-0.230986</td>\n",
       "      <td>-1.065216</td>\n",
       "      <td>-0.998404</td>\n",
       "      <td>-0.194257</td>\n",
       "      <td>1.033886</td>\n",
       "      <td>-0.208585</td>\n",
       "      <td>-0.213364</td>\n",
       "      <td>-0.600438</td>\n",
       "      <td>-0.060197</td>\n",
       "      <td>-0.117156</td>\n",
       "      <td>-0.356776</td>\n",
       "    </tr>\n",
       "    <tr>\n",
       "      <th>3</th>\n",
       "      <td>0.915003</td>\n",
       "      <td>-0.348644</td>\n",
       "      <td>-0.062197</td>\n",
       "      <td>-0.194257</td>\n",
       "      <td>1.033886</td>\n",
       "      <td>-0.208585</td>\n",
       "      <td>-0.213364</td>\n",
       "      <td>-0.600438</td>\n",
       "      <td>-0.060197</td>\n",
       "      <td>-0.117156</td>\n",
       "      <td>-0.356776</td>\n",
       "    </tr>\n",
       "    <tr>\n",
       "      <th>4</th>\n",
       "      <td>-0.157614</td>\n",
       "      <td>-0.348644</td>\n",
       "      <td>-0.647326</td>\n",
       "      <td>-0.194257</td>\n",
       "      <td>1.033886</td>\n",
       "      <td>-0.208585</td>\n",
       "      <td>-0.213364</td>\n",
       "      <td>-0.600438</td>\n",
       "      <td>-0.060197</td>\n",
       "      <td>-0.117156</td>\n",
       "      <td>-0.356776</td>\n",
       "    </tr>\n",
       "    <tr>\n",
       "      <th>...</th>\n",
       "      <td>...</td>\n",
       "      <td>...</td>\n",
       "      <td>...</td>\n",
       "      <td>...</td>\n",
       "      <td>...</td>\n",
       "      <td>...</td>\n",
       "      <td>...</td>\n",
       "      <td>...</td>\n",
       "      <td>...</td>\n",
       "      <td>...</td>\n",
       "      <td>...</td>\n",
       "    </tr>\n",
       "    <tr>\n",
       "      <th>23260</th>\n",
       "      <td>-0.607407</td>\n",
       "      <td>-0.860481</td>\n",
       "      <td>-0.998404</td>\n",
       "      <td>5.147815</td>\n",
       "      <td>-0.967225</td>\n",
       "      <td>-0.208585</td>\n",
       "      <td>-0.213364</td>\n",
       "      <td>-0.600438</td>\n",
       "      <td>-0.060197</td>\n",
       "      <td>-0.117156</td>\n",
       "      <td>-0.356776</td>\n",
       "    </tr>\n",
       "    <tr>\n",
       "      <th>23261</th>\n",
       "      <td>0.400997</td>\n",
       "      <td>0.572664</td>\n",
       "      <td>0.639957</td>\n",
       "      <td>-0.194257</td>\n",
       "      <td>1.033886</td>\n",
       "      <td>-0.208585</td>\n",
       "      <td>-0.213364</td>\n",
       "      <td>-0.600438</td>\n",
       "      <td>-0.060197</td>\n",
       "      <td>-0.117156</td>\n",
       "      <td>-0.356776</td>\n",
       "    </tr>\n",
       "    <tr>\n",
       "      <th>23262</th>\n",
       "      <td>-0.085056</td>\n",
       "      <td>-1.065216</td>\n",
       "      <td>-1.115429</td>\n",
       "      <td>-0.194257</td>\n",
       "      <td>1.033886</td>\n",
       "      <td>-0.208585</td>\n",
       "      <td>-0.213364</td>\n",
       "      <td>-0.600438</td>\n",
       "      <td>-0.060197</td>\n",
       "      <td>-0.117156</td>\n",
       "      <td>-0.356776</td>\n",
       "    </tr>\n",
       "    <tr>\n",
       "      <th>23263</th>\n",
       "      <td>-0.758349</td>\n",
       "      <td>-0.962849</td>\n",
       "      <td>-0.998404</td>\n",
       "      <td>-0.194257</td>\n",
       "      <td>1.033886</td>\n",
       "      <td>-0.208585</td>\n",
       "      <td>-0.213364</td>\n",
       "      <td>-0.600438</td>\n",
       "      <td>-0.060197</td>\n",
       "      <td>-0.117156</td>\n",
       "      <td>-0.356776</td>\n",
       "    </tr>\n",
       "    <tr>\n",
       "      <th>23264</th>\n",
       "      <td>-0.012506</td>\n",
       "      <td>-0.553379</td>\n",
       "      <td>-0.881378</td>\n",
       "      <td>-0.194257</td>\n",
       "      <td>-0.967225</td>\n",
       "      <td>-0.208585</td>\n",
       "      <td>-0.213364</td>\n",
       "      <td>1.665450</td>\n",
       "      <td>-0.060197</td>\n",
       "      <td>-0.117156</td>\n",
       "      <td>-0.356776</td>\n",
       "    </tr>\n",
       "  </tbody>\n",
       "</table>\n",
       "<p>23265 rows × 11 columns</p>\n",
       "</div>"
      ],
      "text/plain": [
       "             0         1         2         3         4         5         6   \\\n",
       "0     -0.627962 -0.143909 -0.647326 -0.194257 -0.967225 -0.208585 -0.213364   \n",
       "1     -0.433152 -0.962849 -0.530301 -0.194257 -0.967225 -0.208585 -0.213364   \n",
       "2     -0.230986 -1.065216 -0.998404 -0.194257  1.033886 -0.208585 -0.213364   \n",
       "3      0.915003 -0.348644 -0.062197 -0.194257  1.033886 -0.208585 -0.213364   \n",
       "4     -0.157614 -0.348644 -0.647326 -0.194257  1.033886 -0.208585 -0.213364   \n",
       "...         ...       ...       ...       ...       ...       ...       ...   \n",
       "23260 -0.607407 -0.860481 -0.998404  5.147815 -0.967225 -0.208585 -0.213364   \n",
       "23261  0.400997  0.572664  0.639957 -0.194257  1.033886 -0.208585 -0.213364   \n",
       "23262 -0.085056 -1.065216 -1.115429 -0.194257  1.033886 -0.208585 -0.213364   \n",
       "23263 -0.758349 -0.962849 -0.998404 -0.194257  1.033886 -0.208585 -0.213364   \n",
       "23264 -0.012506 -0.553379 -0.881378 -0.194257 -0.967225 -0.208585 -0.213364   \n",
       "\n",
       "             7         8         9         10  \n",
       "0      1.665450 -0.060197 -0.117156 -0.356776  \n",
       "1      1.665450 -0.060197 -0.117156 -0.356776  \n",
       "2     -0.600438 -0.060197 -0.117156 -0.356776  \n",
       "3     -0.600438 -0.060197 -0.117156 -0.356776  \n",
       "4     -0.600438 -0.060197 -0.117156 -0.356776  \n",
       "...         ...       ...       ...       ...  \n",
       "23260 -0.600438 -0.060197 -0.117156 -0.356776  \n",
       "23261 -0.600438 -0.060197 -0.117156 -0.356776  \n",
       "23262 -0.600438 -0.060197 -0.117156 -0.356776  \n",
       "23263 -0.600438 -0.060197 -0.117156 -0.356776  \n",
       "23264  1.665450 -0.060197 -0.117156 -0.356776  \n",
       "\n",
       "[23265 rows x 11 columns]"
      ]
     },
     "execution_count": 7,
     "metadata": {},
     "output_type": "execute_result"
    }
   ],
   "source": [
    "previsoresdf = pd.DataFrame(previsores_esc)\n",
    "previsoresdf"
   ]
  },
  {
   "cell_type": "code",
   "execution_count": 8,
   "metadata": {},
   "outputs": [],
   "source": [
    "previsoresdf.dropna(inplace=True)"
   ]
  },
  {
   "cell_type": "markdown",
   "metadata": {},
   "source": [
    "## Base de Treino e Teste"
   ]
  },
  {
   "cell_type": "code",
   "execution_count": 9,
   "metadata": {},
   "outputs": [],
   "source": [
    "from sklearn.model_selection import train_test_split\n",
    "\n",
    "x_treino, x_teste, y_treino, y_teste = train_test_split(previsores_esc, alvo, test_size = 0.3, random_state = 0)"
   ]
  },
  {
   "cell_type": "code",
   "execution_count": 10,
   "metadata": {},
   "outputs": [
    {
     "data": {
      "text/plain": [
       "(16285, 11)"
      ]
     },
     "execution_count": 10,
     "metadata": {},
     "output_type": "execute_result"
    }
   ],
   "source": [
    "x_treino.shape"
   ]
  },
  {
   "cell_type": "code",
   "execution_count": 11,
   "metadata": {},
   "outputs": [
    {
     "data": {
      "text/plain": [
       "(6980, 11)"
      ]
     },
     "execution_count": 11,
     "metadata": {},
     "output_type": "execute_result"
    }
   ],
   "source": [
    "x_teste.shape"
   ]
  },
  {
   "cell_type": "code",
   "execution_count": 12,
   "metadata": {},
   "outputs": [
    {
     "data": {
      "text/plain": [
       "(16285,)"
      ]
     },
     "execution_count": 12,
     "metadata": {},
     "output_type": "execute_result"
    }
   ],
   "source": [
    "y_treino.shape"
   ]
  },
  {
   "cell_type": "code",
   "execution_count": 13,
   "metadata": {},
   "outputs": [
    {
     "data": {
      "text/plain": [
       "(6980,)"
      ]
     },
     "execution_count": 13,
     "metadata": {},
     "output_type": "execute_result"
    }
   ],
   "source": [
    "y_teste.shape"
   ]
  },
  {
   "cell_type": "markdown",
   "metadata": {},
   "source": [
    "## Árvore de Decisão"
   ]
  },
  {
   "cell_type": "code",
   "execution_count": 24,
   "metadata": {},
   "outputs": [
    {
     "data": {
      "text/plain": [
       "[Text(0.4943181818181818, 0.9166666666666666, 'X[0] <= -0.369\\nentropy = 0.209\\nsamples = 16285\\nvalue = [15748, 537]'),\n",
       " Text(0.29545454545454547, 0.75, 'X[0] <= -0.575\\nentropy = 0.07\\nsamples = 4623\\nvalue = [4584, 39]'),\n",
       " Text(0.18181818181818182, 0.5833333333333334, 'X[2] <= 1.986\\nentropy = 0.042\\nsamples = 3338\\nvalue = [3323, 15]'),\n",
       " Text(0.09090909090909091, 0.4166666666666667, 'X[1] <= -1.424\\nentropy = 0.035\\nsamples = 3291\\nvalue = [3279, 12]'),\n",
       " Text(0.045454545454545456, 0.25, 'X[0] <= -0.666\\nentropy = 0.371\\nsamples = 28\\nvalue = [26, 2]'),\n",
       " Text(0.022727272727272728, 0.08333333333333333, 'entropy = 0.229\\nsamples = 27\\nvalue = [26, 1]'),\n",
       " Text(0.06818181818181818, 0.08333333333333333, 'entropy = 0.0\\nsamples = 1\\nvalue = [0, 1]'),\n",
       " Text(0.13636363636363635, 0.25, 'X[0] <= -1.472\\nentropy = 0.03\\nsamples = 3263\\nvalue = [3253, 10]'),\n",
       " Text(0.11363636363636363, 0.08333333333333333, 'entropy = 0.0\\nsamples = 1009\\nvalue = [1009, 0]'),\n",
       " Text(0.1590909090909091, 0.08333333333333333, 'entropy = 0.041\\nsamples = 2254\\nvalue = [2244, 10]'),\n",
       " Text(0.2727272727272727, 0.4166666666666667, 'X[3] <= 2.477\\nentropy = 0.342\\nsamples = 47\\nvalue = [44, 3]'),\n",
       " Text(0.22727272727272727, 0.25, 'X[4] <= 0.033\\nentropy = 0.262\\nsamples = 45\\nvalue = [43, 2]'),\n",
       " Text(0.20454545454545456, 0.08333333333333333, 'entropy = 0.0\\nsamples = 30\\nvalue = [30, 0]'),\n",
       " Text(0.25, 0.08333333333333333, 'entropy = 0.567\\nsamples = 15\\nvalue = [13, 2]'),\n",
       " Text(0.3181818181818182, 0.25, 'X[0] <= -3.6\\nentropy = 1.0\\nsamples = 2\\nvalue = [1, 1]'),\n",
       " Text(0.29545454545454547, 0.08333333333333333, 'entropy = 0.0\\nsamples = 1\\nvalue = [1, 0]'),\n",
       " Text(0.3409090909090909, 0.08333333333333333, 'entropy = 0.0\\nsamples = 1\\nvalue = [0, 1]'),\n",
       " Text(0.4090909090909091, 0.5833333333333334, 'X[0] <= -0.574\\nentropy = 0.134\\nsamples = 1285\\nvalue = [1261, 24]'),\n",
       " Text(0.38636363636363635, 0.4166666666666667, 'entropy = 0.0\\nsamples = 6\\nvalue = [0, 6]'),\n",
       " Text(0.4318181818181818, 0.4166666666666667, 'X[1] <= 0.317\\nentropy = 0.107\\nsamples = 1279\\nvalue = [1261, 18]'),\n",
       " Text(0.4090909090909091, 0.25, 'X[0] <= -0.522\\nentropy = 0.126\\nsamples = 1036\\nvalue = [1018, 18]'),\n",
       " Text(0.38636363636363635, 0.08333333333333333, 'entropy = 0.031\\nsamples = 313\\nvalue = [312, 1]'),\n",
       " Text(0.4318181818181818, 0.08333333333333333, 'entropy = 0.161\\nsamples = 723\\nvalue = [706, 17]'),\n",
       " Text(0.45454545454545453, 0.25, 'entropy = 0.0\\nsamples = 243\\nvalue = [243, 0]'),\n",
       " Text(0.6931818181818182, 0.75, 'X[0] <= 0.501\\nentropy = 0.255\\nsamples = 11662\\nvalue = [11164, 498]'),\n",
       " Text(0.5681818181818182, 0.5833333333333334, 'X[0] <= 0.5\\nentropy = 0.317\\nsamples = 6973\\nvalue = [6573, 400]'),\n",
       " Text(0.5454545454545454, 0.4166666666666667, 'X[0] <= -0.075\\nentropy = 0.31\\nsamples = 6960\\nvalue = [6573, 387]'),\n",
       " Text(0.5, 0.25, 'X[0] <= -0.177\\nentropy = 0.189\\nsamples = 2283\\nvalue = [2217, 66]'),\n",
       " Text(0.4772727272727273, 0.08333333333333333, 'entropy = 0.254\\nsamples = 1315\\nvalue = [1259, 56]'),\n",
       " Text(0.5227272727272727, 0.08333333333333333, 'entropy = 0.083\\nsamples = 968\\nvalue = [958, 10]'),\n",
       " Text(0.5909090909090909, 0.25, 'X[0] <= -0.073\\nentropy = 0.361\\nsamples = 4677\\nvalue = [4356, 321]'),\n",
       " Text(0.5681818181818182, 0.08333333333333333, 'entropy = 0.229\\nsamples = 27\\nvalue = [1, 26]'),\n",
       " Text(0.6136363636363636, 0.08333333333333333, 'entropy = 0.341\\nsamples = 4650\\nvalue = [4355, 295]'),\n",
       " Text(0.5909090909090909, 0.4166666666666667, 'entropy = 0.0\\nsamples = 13\\nvalue = [0, 13]'),\n",
       " Text(0.8181818181818182, 0.5833333333333334, 'X[2] <= 0.347\\nentropy = 0.146\\nsamples = 4689\\nvalue = [4591, 98]'),\n",
       " Text(0.7272727272727273, 0.4166666666666667, 'X[6] <= 2.237\\nentropy = 0.098\\nsamples = 2686\\nvalue = [2652, 34]'),\n",
       " Text(0.6818181818181818, 0.25, 'X[2] <= -0.004\\nentropy = 0.086\\nsamples = 2612\\nvalue = [2584, 28]'),\n",
       " Text(0.6590909090909091, 0.08333333333333333, 'entropy = 0.097\\nsamples = 2153\\nvalue = [2126, 27]'),\n",
       " Text(0.7045454545454546, 0.08333333333333333, 'entropy = 0.022\\nsamples = 459\\nvalue = [458, 1]'),\n",
       " Text(0.7727272727272727, 0.25, 'X[0] <= 2.352\\nentropy = 0.406\\nsamples = 74\\nvalue = [68, 6]'),\n",
       " Text(0.75, 0.08333333333333333, 'entropy = 0.258\\nsamples = 69\\nvalue = [66, 3]'),\n",
       " Text(0.7954545454545454, 0.08333333333333333, 'entropy = 0.971\\nsamples = 5\\nvalue = [2, 3]'),\n",
       " Text(0.9090909090909091, 0.4166666666666667, 'X[0] <= 1.003\\nentropy = 0.204\\nsamples = 2003\\nvalue = [1939, 64]'),\n",
       " Text(0.8636363636363636, 0.25, 'X[0] <= 1.001\\nentropy = 0.255\\nsamples = 1352\\nvalue = [1294, 58]'),\n",
       " Text(0.8409090909090909, 0.08333333333333333, 'entropy = 0.233\\nsamples = 1345\\nvalue = [1294, 51]'),\n",
       " Text(0.8863636363636364, 0.08333333333333333, 'entropy = 0.0\\nsamples = 7\\nvalue = [0, 7]'),\n",
       " Text(0.9545454545454546, 0.25, 'X[2] <= 3.39\\nentropy = 0.076\\nsamples = 651\\nvalue = [645, 6]'),\n",
       " Text(0.9318181818181818, 0.08333333333333333, 'entropy = 0.044\\nsamples = 628\\nvalue = [625, 3]'),\n",
       " Text(0.9772727272727273, 0.08333333333333333, 'entropy = 0.559\\nsamples = 23\\nvalue = [20, 3]')]"
      ]
     },
     "execution_count": 24,
     "metadata": {},
     "output_type": "execute_result"
    },
    {
     "data": {
      "image/png": "[encoded data removed]",
      "text/plain": [
       "<Figure size 432x288 with 1 Axes>"
      ]
     },
     "metadata": {
      "needs_background": "light"
     },
     "output_type": "display_data"
    }
   ],
   "source": [
    "from sklearn.tree import DecisionTreeClassifier\n",
    "from sklearn import tree\n",
    "\n",
    "arvore = DecisionTreeClassifier(criterion='entropy', random_state = 0, max_depth=5)\n",
    "_arvore = arvore.fit(x_treino, y_treino)\n",
    "\n",
    "tree.plot_tree(_arvore)"
   ]
  },
  {
   "cell_type": "code",
   "execution_count": 25,
   "metadata": {},
   "outputs": [
    {
     "data": {
      "text/plain": [
       "array([0., 0., 0., ..., 0., 0., 0.])"
      ]
     },
     "execution_count": 25,
     "metadata": {},
     "output_type": "execute_result"
    }
   ],
   "source": [
    "previsoes_arvore = arvore.predict(x_teste)\n",
    "previsoes_arvore"
   ]
  },
  {
   "cell_type": "code",
   "execution_count": 26,
   "metadata": {},
   "outputs": [
    {
     "data": {
      "text/plain": [
       "array([0., 0., 0., ..., 0., 0., 0.])"
      ]
     },
     "execution_count": 26,
     "metadata": {},
     "output_type": "execute_result"
    }
   ],
   "source": [
    "y_teste"
   ]
  },
  {
   "cell_type": "code",
   "execution_count": 27,
   "metadata": {},
   "outputs": [],
   "source": [
    "from sklearn.metrics import accuracy_score, confusion_matrix, classification_report"
   ]
  },
  {
   "cell_type": "code",
   "execution_count": 28,
   "metadata": {},
   "outputs": [
    {
     "name": "stdout",
     "output_type": "stream",
     "text": [
      "Acurácia: 97.11%\n"
     ]
    }
   ],
   "source": [
    "print(\"Acurácia: %.2f%%\" % (accuracy_score(y_teste, previsoes_arvore) * 100.0))"
   ]
  },
  {
   "cell_type": "code",
   "execution_count": 29,
   "metadata": {},
   "outputs": [
    {
     "data": {
      "text/plain": [
       "array([[6749,    2],\n",
       "       [ 200,   29]], dtype=int64)"
      ]
     },
     "execution_count": 29,
     "metadata": {},
     "output_type": "execute_result"
    }
   ],
   "source": [
    "confusion_matrix(y_teste, previsoes_arvore)"
   ]
  },
  {
   "cell_type": "code",
   "execution_count": 30,
   "metadata": {},
   "outputs": [
    {
     "name": "stdout",
     "output_type": "stream",
     "text": [
      "              precision    recall  f1-score   support\n",
      "\n",
      "         0.0       0.97      1.00      0.99      6751\n",
      "         1.0       0.94      0.13      0.22       229\n",
      "\n",
      "    accuracy                           0.97      6980\n",
      "   macro avg       0.95      0.56      0.60      6980\n",
      "weighted avg       0.97      0.97      0.96      6980\n",
      "\n"
     ]
    }
   ],
   "source": [
    "print(classification_report(y_teste, previsoes_arvore))"
   ]
  },
  {
   "cell_type": "markdown",
   "metadata": {},
   "source": [
    "## Treino"
   ]
  },
  {
   "cell_type": "code",
   "execution_count": 31,
   "metadata": {},
   "outputs": [
    {
     "data": {
      "text/plain": [
       "array([0., 0., 0., ..., 0., 0., 0.])"
      ]
     },
     "execution_count": 31,
     "metadata": {},
     "output_type": "execute_result"
    }
   ],
   "source": [
    "previsoes_treino = arvore.predict(x_treino)\n",
    "previsoes_treino"
   ]
  },
  {
   "cell_type": "code",
   "execution_count": 32,
   "metadata": {},
   "outputs": [
    {
     "name": "stdout",
     "output_type": "stream",
     "text": [
      "Acurácia: 97.03%\n"
     ]
    }
   ],
   "source": [
    "print(\"Acurácia: %.2f%%\" % (accuracy_score(y_treino, previsoes_treino) * 100.0))"
   ]
  },
  {
   "cell_type": "code",
   "execution_count": 33,
   "metadata": {},
   "outputs": [
    {
     "data": {
      "text/plain": [
       "array([[15745,     3],\n",
       "       [  480,    57]], dtype=int64)"
      ]
     },
     "execution_count": 33,
     "metadata": {},
     "output_type": "execute_result"
    }
   ],
   "source": [
    "confusion_matrix(y_treino, previsoes_treino)"
   ]
  }
 ],
 "metadata": {
  "kernelspec": {
   "display_name": "Python 3.9.12 ('base')",
   "language": "python",
   "name": "python3"
  },
  "language_info": {
   "codemirror_mode": {
    "name": "ipython",
    "version": 3
   },
   "file_extension": ".py",
   "mimetype": "text/x-python",
   "name": "python",
   "nbconvert_exporter": "python",
   "pygments_lexer": "ipython3",
   "version": "3.9.12"
  },
  "orig_nbformat": 4,
  "vscode": {
   "interpreter": {
    "hash": "9f4b0e2ea0d532abee2ce5032a659fdabae911351ff90655966afe3d19270f8c"
   }
  }
 },
 "nbformat": 4,
 "nbformat_minor": 2
}
