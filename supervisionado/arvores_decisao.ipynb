{
 "cells": [
  {
   "cell_type": "markdown",
   "metadata": {},
   "source": [
    "# Árvores de Decisão"
   ]
  },
  {
   "cell_type": "code",
   "execution_count": 1,
   "metadata": {},
   "outputs": [
    {
     "data": {
      "text/html": [
       "<div>\n",
       "<style scoped>\n",
       "    .dataframe tbody tr th:only-of-type {\n",
       "        vertical-align: middle;\n",
       "    }\n",
       "\n",
       "    .dataframe tbody tr th {\n",
       "        vertical-align: top;\n",
       "    }\n",
       "\n",
       "    .dataframe thead th {\n",
       "        text-align: right;\n",
       "    }\n",
       "</style>\n",
       "<table border=\"1\" class=\"dataframe\">\n",
       "  <thead>\n",
       "    <tr style=\"text-align: right;\">\n",
       "      <th></th>\n",
       "      <th>WageAboveAverage</th>\n",
       "      <th>YearsCodeNumber</th>\n",
       "      <th>YearsCodeProNumber</th>\n",
       "      <th>EdLevel_associate</th>\n",
       "      <th>EdLevel_bachelor</th>\n",
       "      <th>EdLevel_doctor</th>\n",
       "      <th>EdLevel_high_school</th>\n",
       "      <th>EdLevel_master</th>\n",
       "      <th>EdLevel_primary_school</th>\n",
       "      <th>EdLevel_professional</th>\n",
       "      <th>EdLevel_unfinished_college</th>\n",
       "      <th>Country_australia</th>\n",
       "      <th>Country_brazil</th>\n",
       "      <th>Country_canada</th>\n",
       "      <th>Country_france</th>\n",
       "      <th>Country_germany</th>\n",
       "      <th>Country_india</th>\n",
       "      <th>Country_italy</th>\n",
       "      <th>Country_netherlands</th>\n",
       "      <th>Country_poland</th>\n",
       "      <th>Country_spain</th>\n",
       "      <th>Country_united_kingdom_of_great_britain_and_northern_ireland</th>\n",
       "      <th>Country_united_states_of_america</th>\n",
       "      <th>Currency_AED</th>\n",
       "      <th>Currency_AUD</th>\n",
       "      <th>Currency_AZN</th>\n",
       "      <th>Currency_BDT</th>\n",
       "      <th>Currency_BRL</th>\n",
       "      <th>Currency_CAD</th>\n",
       "      <th>Currency_CHF</th>\n",
       "      <th>Currency_CZK</th>\n",
       "      <th>Currency_DJF</th>\n",
       "      <th>Currency_EUR</th>\n",
       "      <th>Currency_GBP</th>\n",
       "      <th>Currency_GIP</th>\n",
       "      <th>Currency_IDR</th>\n",
       "      <th>Currency_IMP</th>\n",
       "      <th>Currency_INR</th>\n",
       "      <th>Currency_IRR</th>\n",
       "      <th>Currency_JPY</th>\n",
       "      <th>Currency_KYD</th>\n",
       "      <th>Currency_MAD</th>\n",
       "      <th>Currency_NOK</th>\n",
       "      <th>Currency_NZD</th>\n",
       "      <th>Currency_PLN</th>\n",
       "      <th>Currency_SAR</th>\n",
       "      <th>Currency_TND</th>\n",
       "      <th>Currency_UGX</th>\n",
       "      <th>Currency_USD</th>\n",
       "      <th>Currency_XPF</th>\n",
       "    </tr>\n",
       "  </thead>\n",
       "  <tbody>\n",
       "    <tr>\n",
       "      <th>0</th>\n",
       "      <td>0</td>\n",
       "      <td>14.0</td>\n",
       "      <td>5.0</td>\n",
       "      <td>0.0</td>\n",
       "      <td>0.0</td>\n",
       "      <td>0.0</td>\n",
       "      <td>0.0</td>\n",
       "      <td>1.0</td>\n",
       "      <td>0.0</td>\n",
       "      <td>0.0</td>\n",
       "      <td>0.0</td>\n",
       "      <td>0.0</td>\n",
       "      <td>0.0</td>\n",
       "      <td>0.0</td>\n",
       "      <td>0.0</td>\n",
       "      <td>0.0</td>\n",
       "      <td>0.0</td>\n",
       "      <td>0.0</td>\n",
       "      <td>0.0</td>\n",
       "      <td>0.0</td>\n",
       "      <td>0.0</td>\n",
       "      <td>1.0</td>\n",
       "      <td>0.0</td>\n",
       "      <td>0.0</td>\n",
       "      <td>0.0</td>\n",
       "      <td>0.0</td>\n",
       "      <td>0.0</td>\n",
       "      <td>0.0</td>\n",
       "      <td>0.0</td>\n",
       "      <td>0.0</td>\n",
       "      <td>0.0</td>\n",
       "      <td>0.0</td>\n",
       "      <td>0.0</td>\n",
       "      <td>1.0</td>\n",
       "      <td>0.0</td>\n",
       "      <td>0.0</td>\n",
       "      <td>0.0</td>\n",
       "      <td>0.0</td>\n",
       "      <td>0.0</td>\n",
       "      <td>0.0</td>\n",
       "      <td>0.0</td>\n",
       "      <td>0.0</td>\n",
       "      <td>0.0</td>\n",
       "      <td>0.0</td>\n",
       "      <td>0.0</td>\n",
       "      <td>0.0</td>\n",
       "      <td>0.0</td>\n",
       "      <td>0.0</td>\n",
       "      <td>0.0</td>\n",
       "      <td>0.0</td>\n",
       "    </tr>\n",
       "    <tr>\n",
       "      <th>1</th>\n",
       "      <td>0</td>\n",
       "      <td>6.0</td>\n",
       "      <td>6.0</td>\n",
       "      <td>0.0</td>\n",
       "      <td>0.0</td>\n",
       "      <td>0.0</td>\n",
       "      <td>0.0</td>\n",
       "      <td>1.0</td>\n",
       "      <td>0.0</td>\n",
       "      <td>0.0</td>\n",
       "      <td>0.0</td>\n",
       "      <td>0.0</td>\n",
       "      <td>0.0</td>\n",
       "      <td>0.0</td>\n",
       "      <td>0.0</td>\n",
       "      <td>0.0</td>\n",
       "      <td>0.0</td>\n",
       "      <td>0.0</td>\n",
       "      <td>1.0</td>\n",
       "      <td>0.0</td>\n",
       "      <td>0.0</td>\n",
       "      <td>0.0</td>\n",
       "      <td>0.0</td>\n",
       "      <td>0.0</td>\n",
       "      <td>0.0</td>\n",
       "      <td>0.0</td>\n",
       "      <td>0.0</td>\n",
       "      <td>0.0</td>\n",
       "      <td>0.0</td>\n",
       "      <td>0.0</td>\n",
       "      <td>0.0</td>\n",
       "      <td>0.0</td>\n",
       "      <td>1.0</td>\n",
       "      <td>0.0</td>\n",
       "      <td>0.0</td>\n",
       "      <td>0.0</td>\n",
       "      <td>0.0</td>\n",
       "      <td>0.0</td>\n",
       "      <td>0.0</td>\n",
       "      <td>0.0</td>\n",
       "      <td>0.0</td>\n",
       "      <td>0.0</td>\n",
       "      <td>0.0</td>\n",
       "      <td>0.0</td>\n",
       "      <td>0.0</td>\n",
       "      <td>0.0</td>\n",
       "      <td>0.0</td>\n",
       "      <td>0.0</td>\n",
       "      <td>0.0</td>\n",
       "      <td>0.0</td>\n",
       "    </tr>\n",
       "    <tr>\n",
       "      <th>2</th>\n",
       "      <td>1</td>\n",
       "      <td>5.0</td>\n",
       "      <td>2.0</td>\n",
       "      <td>0.0</td>\n",
       "      <td>1.0</td>\n",
       "      <td>0.0</td>\n",
       "      <td>0.0</td>\n",
       "      <td>0.0</td>\n",
       "      <td>0.0</td>\n",
       "      <td>0.0</td>\n",
       "      <td>0.0</td>\n",
       "      <td>0.0</td>\n",
       "      <td>0.0</td>\n",
       "      <td>0.0</td>\n",
       "      <td>0.0</td>\n",
       "      <td>0.0</td>\n",
       "      <td>0.0</td>\n",
       "      <td>0.0</td>\n",
       "      <td>0.0</td>\n",
       "      <td>0.0</td>\n",
       "      <td>0.0</td>\n",
       "      <td>1.0</td>\n",
       "      <td>0.0</td>\n",
       "      <td>0.0</td>\n",
       "      <td>0.0</td>\n",
       "      <td>0.0</td>\n",
       "      <td>0.0</td>\n",
       "      <td>0.0</td>\n",
       "      <td>0.0</td>\n",
       "      <td>0.0</td>\n",
       "      <td>0.0</td>\n",
       "      <td>0.0</td>\n",
       "      <td>0.0</td>\n",
       "      <td>1.0</td>\n",
       "      <td>0.0</td>\n",
       "      <td>0.0</td>\n",
       "      <td>0.0</td>\n",
       "      <td>0.0</td>\n",
       "      <td>0.0</td>\n",
       "      <td>0.0</td>\n",
       "      <td>0.0</td>\n",
       "      <td>0.0</td>\n",
       "      <td>0.0</td>\n",
       "      <td>0.0</td>\n",
       "      <td>0.0</td>\n",
       "      <td>0.0</td>\n",
       "      <td>0.0</td>\n",
       "      <td>0.0</td>\n",
       "      <td>0.0</td>\n",
       "      <td>0.0</td>\n",
       "    </tr>\n",
       "    <tr>\n",
       "      <th>3</th>\n",
       "      <td>1</td>\n",
       "      <td>12.0</td>\n",
       "      <td>10.0</td>\n",
       "      <td>0.0</td>\n",
       "      <td>1.0</td>\n",
       "      <td>0.0</td>\n",
       "      <td>0.0</td>\n",
       "      <td>0.0</td>\n",
       "      <td>0.0</td>\n",
       "      <td>0.0</td>\n",
       "      <td>0.0</td>\n",
       "      <td>0.0</td>\n",
       "      <td>0.0</td>\n",
       "      <td>0.0</td>\n",
       "      <td>0.0</td>\n",
       "      <td>0.0</td>\n",
       "      <td>0.0</td>\n",
       "      <td>0.0</td>\n",
       "      <td>0.0</td>\n",
       "      <td>0.0</td>\n",
       "      <td>0.0</td>\n",
       "      <td>0.0</td>\n",
       "      <td>1.0</td>\n",
       "      <td>0.0</td>\n",
       "      <td>0.0</td>\n",
       "      <td>0.0</td>\n",
       "      <td>0.0</td>\n",
       "      <td>0.0</td>\n",
       "      <td>0.0</td>\n",
       "      <td>0.0</td>\n",
       "      <td>0.0</td>\n",
       "      <td>0.0</td>\n",
       "      <td>0.0</td>\n",
       "      <td>0.0</td>\n",
       "      <td>0.0</td>\n",
       "      <td>0.0</td>\n",
       "      <td>0.0</td>\n",
       "      <td>0.0</td>\n",
       "      <td>0.0</td>\n",
       "      <td>0.0</td>\n",
       "      <td>0.0</td>\n",
       "      <td>0.0</td>\n",
       "      <td>0.0</td>\n",
       "      <td>0.0</td>\n",
       "      <td>0.0</td>\n",
       "      <td>0.0</td>\n",
       "      <td>0.0</td>\n",
       "      <td>0.0</td>\n",
       "      <td>1.0</td>\n",
       "      <td>0.0</td>\n",
       "    </tr>\n",
       "    <tr>\n",
       "      <th>4</th>\n",
       "      <td>1</td>\n",
       "      <td>12.0</td>\n",
       "      <td>5.0</td>\n",
       "      <td>0.0</td>\n",
       "      <td>1.0</td>\n",
       "      <td>0.0</td>\n",
       "      <td>0.0</td>\n",
       "      <td>0.0</td>\n",
       "      <td>0.0</td>\n",
       "      <td>0.0</td>\n",
       "      <td>0.0</td>\n",
       "      <td>0.0</td>\n",
       "      <td>0.0</td>\n",
       "      <td>0.0</td>\n",
       "      <td>0.0</td>\n",
       "      <td>0.0</td>\n",
       "      <td>0.0</td>\n",
       "      <td>0.0</td>\n",
       "      <td>0.0</td>\n",
       "      <td>0.0</td>\n",
       "      <td>0.0</td>\n",
       "      <td>0.0</td>\n",
       "      <td>1.0</td>\n",
       "      <td>0.0</td>\n",
       "      <td>0.0</td>\n",
       "      <td>0.0</td>\n",
       "      <td>0.0</td>\n",
       "      <td>0.0</td>\n",
       "      <td>0.0</td>\n",
       "      <td>0.0</td>\n",
       "      <td>0.0</td>\n",
       "      <td>0.0</td>\n",
       "      <td>0.0</td>\n",
       "      <td>0.0</td>\n",
       "      <td>0.0</td>\n",
       "      <td>0.0</td>\n",
       "      <td>0.0</td>\n",
       "      <td>0.0</td>\n",
       "      <td>0.0</td>\n",
       "      <td>0.0</td>\n",
       "      <td>0.0</td>\n",
       "      <td>0.0</td>\n",
       "      <td>0.0</td>\n",
       "      <td>0.0</td>\n",
       "      <td>0.0</td>\n",
       "      <td>0.0</td>\n",
       "      <td>0.0</td>\n",
       "      <td>0.0</td>\n",
       "      <td>1.0</td>\n",
       "      <td>0.0</td>\n",
       "    </tr>\n",
       "  </tbody>\n",
       "</table>\n",
       "</div>"
      ],
      "text/plain": [
       "   WageAboveAverage  YearsCodeNumber  YearsCodeProNumber  EdLevel_associate  \\\n",
       "0                 0             14.0                 5.0                0.0   \n",
       "1                 0              6.0                 6.0                0.0   \n",
       "2                 1              5.0                 2.0                0.0   \n",
       "3                 1             12.0                10.0                0.0   \n",
       "4                 1             12.0                 5.0                0.0   \n",
       "\n",
       "   EdLevel_bachelor  EdLevel_doctor  EdLevel_high_school  EdLevel_master  \\\n",
       "0               0.0             0.0                  0.0             1.0   \n",
       "1               0.0             0.0                  0.0             1.0   \n",
       "2               1.0             0.0                  0.0             0.0   \n",
       "3               1.0             0.0                  0.0             0.0   \n",
       "4               1.0             0.0                  0.0             0.0   \n",
       "\n",
       "   EdLevel_primary_school  EdLevel_professional  EdLevel_unfinished_college  \\\n",
       "0                     0.0                   0.0                         0.0   \n",
       "1                     0.0                   0.0                         0.0   \n",
       "2                     0.0                   0.0                         0.0   \n",
       "3                     0.0                   0.0                         0.0   \n",
       "4                     0.0                   0.0                         0.0   \n",
       "\n",
       "   Country_australia  Country_brazil  Country_canada  Country_france  \\\n",
       "0                0.0             0.0             0.0             0.0   \n",
       "1                0.0             0.0             0.0             0.0   \n",
       "2                0.0             0.0             0.0             0.0   \n",
       "3                0.0             0.0             0.0             0.0   \n",
       "4                0.0             0.0             0.0             0.0   \n",
       "\n",
       "   Country_germany  Country_india  Country_italy  Country_netherlands  \\\n",
       "0              0.0            0.0            0.0                  0.0   \n",
       "1              0.0            0.0            0.0                  1.0   \n",
       "2              0.0            0.0            0.0                  0.0   \n",
       "3              0.0            0.0            0.0                  0.0   \n",
       "4              0.0            0.0            0.0                  0.0   \n",
       "\n",
       "   Country_poland  Country_spain  \\\n",
       "0             0.0            0.0   \n",
       "1             0.0            0.0   \n",
       "2             0.0            0.0   \n",
       "3             0.0            0.0   \n",
       "4             0.0            0.0   \n",
       "\n",
       "   Country_united_kingdom_of_great_britain_and_northern_ireland  \\\n",
       "0                                                1.0              \n",
       "1                                                0.0              \n",
       "2                                                1.0              \n",
       "3                                                0.0              \n",
       "4                                                0.0              \n",
       "\n",
       "   Country_united_states_of_america  Currency_AED  Currency_AUD  Currency_AZN  \\\n",
       "0                               0.0           0.0           0.0           0.0   \n",
       "1                               0.0           0.0           0.0           0.0   \n",
       "2                               0.0           0.0           0.0           0.0   \n",
       "3                               1.0           0.0           0.0           0.0   \n",
       "4                               1.0           0.0           0.0           0.0   \n",
       "\n",
       "   Currency_BDT  Currency_BRL  Currency_CAD  Currency_CHF  Currency_CZK  \\\n",
       "0           0.0           0.0           0.0           0.0           0.0   \n",
       "1           0.0           0.0           0.0           0.0           0.0   \n",
       "2           0.0           0.0           0.0           0.0           0.0   \n",
       "3           0.0           0.0           0.0           0.0           0.0   \n",
       "4           0.0           0.0           0.0           0.0           0.0   \n",
       "\n",
       "   Currency_DJF  Currency_EUR  Currency_GBP  Currency_GIP  Currency_IDR  \\\n",
       "0           0.0           0.0           1.0           0.0           0.0   \n",
       "1           0.0           1.0           0.0           0.0           0.0   \n",
       "2           0.0           0.0           1.0           0.0           0.0   \n",
       "3           0.0           0.0           0.0           0.0           0.0   \n",
       "4           0.0           0.0           0.0           0.0           0.0   \n",
       "\n",
       "   Currency_IMP  Currency_INR  Currency_IRR  Currency_JPY  Currency_KYD  \\\n",
       "0           0.0           0.0           0.0           0.0           0.0   \n",
       "1           0.0           0.0           0.0           0.0           0.0   \n",
       "2           0.0           0.0           0.0           0.0           0.0   \n",
       "3           0.0           0.0           0.0           0.0           0.0   \n",
       "4           0.0           0.0           0.0           0.0           0.0   \n",
       "\n",
       "   Currency_MAD  Currency_NOK  Currency_NZD  Currency_PLN  Currency_SAR  \\\n",
       "0           0.0           0.0           0.0           0.0           0.0   \n",
       "1           0.0           0.0           0.0           0.0           0.0   \n",
       "2           0.0           0.0           0.0           0.0           0.0   \n",
       "3           0.0           0.0           0.0           0.0           0.0   \n",
       "4           0.0           0.0           0.0           0.0           0.0   \n",
       "\n",
       "   Currency_TND  Currency_UGX  Currency_USD  Currency_XPF  \n",
       "0           0.0           0.0           0.0           0.0  \n",
       "1           0.0           0.0           0.0           0.0  \n",
       "2           0.0           0.0           0.0           0.0  \n",
       "3           0.0           0.0           1.0           0.0  \n",
       "4           0.0           0.0           1.0           0.0  "
      ]
     },
     "execution_count": 1,
     "metadata": {},
     "output_type": "execute_result"
    }
   ],
   "source": [
    "import numpy as np\n",
    "import pandas as pd\n",
    "import warnings\n",
    "warnings.filterwarnings(\"ignore\")\n",
    "\n",
    "pd.set_option('display.max_columns', None)\n",
    "\n",
    "df = pd.read_csv('../normalizacao/survey_results_salary_numeric.csv', sep=',', encoding='utf-8', index_col=0)\n",
    "df.head()"
   ]
  },
  {
   "cell_type": "markdown",
   "metadata": {},
   "source": [
    "## Conversão das variáveis categóricas para numéricas\n",
    "\n",
    "No arquivo `normalizacao/conversao_categorias.ipynb`."
   ]
  },
  {
   "cell_type": "markdown",
   "metadata": {},
   "source": [
    "## Atributos Previsores e Alvo"
   ]
  },
  {
   "cell_type": "code",
   "execution_count": 2,
   "metadata": {},
   "outputs": [
    {
     "data": {
      "text/plain": [
       "array([[ 0., 14.,  5., ...,  0.,  0.,  0.],\n",
       "       [ 0.,  6.,  6., ...,  0.,  0.,  0.],\n",
       "       [ 1.,  5.,  2., ...,  0.,  0.,  0.],\n",
       "       ...,\n",
       "       [ 1.,  5.,  1., ...,  0.,  0.,  0.],\n",
       "       [ 0.,  6.,  2., ...,  0.,  0.,  0.],\n",
       "       [ 1., 10.,  3., ...,  0.,  0.,  0.]])"
      ]
     },
     "execution_count": 2,
     "metadata": {},
     "output_type": "execute_result"
    }
   ],
   "source": [
    "previsores = df.iloc[:, 0:11].values\n",
    "previsores"
   ]
  },
  {
   "cell_type": "code",
   "execution_count": 3,
   "metadata": {},
   "outputs": [
    {
     "data": {
      "text/plain": [
       "(23265, 11)"
      ]
     },
     "execution_count": 3,
     "metadata": {},
     "output_type": "execute_result"
    }
   ],
   "source": [
    "previsores.shape"
   ]
  },
  {
   "cell_type": "code",
   "execution_count": 4,
   "metadata": {},
   "outputs": [
    {
     "data": {
      "text/plain": [
       "array([0., 0., 0., ..., 0., 0., 0.])"
      ]
     },
     "execution_count": 4,
     "metadata": {},
     "output_type": "execute_result"
    }
   ],
   "source": [
    "alvo = df.iloc[:, 11].values\n",
    "alvo"
   ]
  },
  {
   "cell_type": "code",
   "execution_count": 5,
   "metadata": {},
   "outputs": [
    {
     "data": {
      "text/plain": [
       "(23265,)"
      ]
     },
     "execution_count": 5,
     "metadata": {},
     "output_type": "execute_result"
    }
   ],
   "source": [
    "alvo.shape"
   ]
  },
  {
   "cell_type": "markdown",
   "metadata": {},
   "source": [
    "## Escalonamento"
   ]
  },
  {
   "cell_type": "code",
   "execution_count": 6,
   "metadata": {},
   "outputs": [
    {
     "data": {
      "text/plain": [
       "array([[-1.42066628, -0.14390853, -0.64732633, ..., -0.06019682,\n",
       "        -0.11715584, -0.35677649],\n",
       "       [-1.42066628, -0.96284862, -0.53030055, ..., -0.06019682,\n",
       "        -0.11715584, -0.35677649],\n",
       "       [ 0.70389508, -1.06521613, -0.99840366, ..., -0.06019682,\n",
       "        -0.11715584, -0.35677649],\n",
       "       ...,\n",
       "       [ 0.70389508, -1.06521613, -1.11542943, ..., -0.06019682,\n",
       "        -0.11715584, -0.35677649],\n",
       "       [-1.42066628, -0.96284862, -0.99840366, ..., -0.06019682,\n",
       "        -0.11715584, -0.35677649],\n",
       "       [ 0.70389508, -0.55337857, -0.88137788, ..., -0.06019682,\n",
       "        -0.11715584, -0.35677649]])"
      ]
     },
     "execution_count": 6,
     "metadata": {},
     "output_type": "execute_result"
    }
   ],
   "source": [
    "from sklearn.preprocessing import StandardScaler\n",
    "\n",
    "previsores_esc = StandardScaler().fit_transform(previsores)\n",
    "previsores_esc"
   ]
  },
  {
   "cell_type": "code",
   "execution_count": 7,
   "metadata": {},
   "outputs": [
    {
     "data": {
      "text/html": [
       "<div>\n",
       "<style scoped>\n",
       "    .dataframe tbody tr th:only-of-type {\n",
       "        vertical-align: middle;\n",
       "    }\n",
       "\n",
       "    .dataframe tbody tr th {\n",
       "        vertical-align: top;\n",
       "    }\n",
       "\n",
       "    .dataframe thead th {\n",
       "        text-align: right;\n",
       "    }\n",
       "</style>\n",
       "<table border=\"1\" class=\"dataframe\">\n",
       "  <thead>\n",
       "    <tr style=\"text-align: right;\">\n",
       "      <th></th>\n",
       "      <th>0</th>\n",
       "      <th>1</th>\n",
       "      <th>2</th>\n",
       "      <th>3</th>\n",
       "      <th>4</th>\n",
       "      <th>5</th>\n",
       "      <th>6</th>\n",
       "      <th>7</th>\n",
       "      <th>8</th>\n",
       "      <th>9</th>\n",
       "      <th>10</th>\n",
       "    </tr>\n",
       "  </thead>\n",
       "  <tbody>\n",
       "    <tr>\n",
       "      <th>0</th>\n",
       "      <td>-1.420666</td>\n",
       "      <td>-0.143909</td>\n",
       "      <td>-0.647326</td>\n",
       "      <td>-0.194257</td>\n",
       "      <td>-0.967225</td>\n",
       "      <td>-0.208585</td>\n",
       "      <td>-0.213364</td>\n",
       "      <td>1.665450</td>\n",
       "      <td>-0.060197</td>\n",
       "      <td>-0.117156</td>\n",
       "      <td>-0.356776</td>\n",
       "    </tr>\n",
       "    <tr>\n",
       "      <th>1</th>\n",
       "      <td>-1.420666</td>\n",
       "      <td>-0.962849</td>\n",
       "      <td>-0.530301</td>\n",
       "      <td>-0.194257</td>\n",
       "      <td>-0.967225</td>\n",
       "      <td>-0.208585</td>\n",
       "      <td>-0.213364</td>\n",
       "      <td>1.665450</td>\n",
       "      <td>-0.060197</td>\n",
       "      <td>-0.117156</td>\n",
       "      <td>-0.356776</td>\n",
       "    </tr>\n",
       "    <tr>\n",
       "      <th>2</th>\n",
       "      <td>0.703895</td>\n",
       "      <td>-1.065216</td>\n",
       "      <td>-0.998404</td>\n",
       "      <td>-0.194257</td>\n",
       "      <td>1.033886</td>\n",
       "      <td>-0.208585</td>\n",
       "      <td>-0.213364</td>\n",
       "      <td>-0.600438</td>\n",
       "      <td>-0.060197</td>\n",
       "      <td>-0.117156</td>\n",
       "      <td>-0.356776</td>\n",
       "    </tr>\n",
       "    <tr>\n",
       "      <th>3</th>\n",
       "      <td>0.703895</td>\n",
       "      <td>-0.348644</td>\n",
       "      <td>-0.062197</td>\n",
       "      <td>-0.194257</td>\n",
       "      <td>1.033886</td>\n",
       "      <td>-0.208585</td>\n",
       "      <td>-0.213364</td>\n",
       "      <td>-0.600438</td>\n",
       "      <td>-0.060197</td>\n",
       "      <td>-0.117156</td>\n",
       "      <td>-0.356776</td>\n",
       "    </tr>\n",
       "    <tr>\n",
       "      <th>4</th>\n",
       "      <td>0.703895</td>\n",
       "      <td>-0.348644</td>\n",
       "      <td>-0.647326</td>\n",
       "      <td>-0.194257</td>\n",
       "      <td>1.033886</td>\n",
       "      <td>-0.208585</td>\n",
       "      <td>-0.213364</td>\n",
       "      <td>-0.600438</td>\n",
       "      <td>-0.060197</td>\n",
       "      <td>-0.117156</td>\n",
       "      <td>-0.356776</td>\n",
       "    </tr>\n",
       "    <tr>\n",
       "      <th>...</th>\n",
       "      <td>...</td>\n",
       "      <td>...</td>\n",
       "      <td>...</td>\n",
       "      <td>...</td>\n",
       "      <td>...</td>\n",
       "      <td>...</td>\n",
       "      <td>...</td>\n",
       "      <td>...</td>\n",
       "      <td>...</td>\n",
       "      <td>...</td>\n",
       "      <td>...</td>\n",
       "    </tr>\n",
       "    <tr>\n",
       "      <th>23260</th>\n",
       "      <td>-1.420666</td>\n",
       "      <td>-0.860481</td>\n",
       "      <td>-0.998404</td>\n",
       "      <td>5.147815</td>\n",
       "      <td>-0.967225</td>\n",
       "      <td>-0.208585</td>\n",
       "      <td>-0.213364</td>\n",
       "      <td>-0.600438</td>\n",
       "      <td>-0.060197</td>\n",
       "      <td>-0.117156</td>\n",
       "      <td>-0.356776</td>\n",
       "    </tr>\n",
       "    <tr>\n",
       "      <th>23261</th>\n",
       "      <td>0.703895</td>\n",
       "      <td>0.572664</td>\n",
       "      <td>0.639957</td>\n",
       "      <td>-0.194257</td>\n",
       "      <td>1.033886</td>\n",
       "      <td>-0.208585</td>\n",
       "      <td>-0.213364</td>\n",
       "      <td>-0.600438</td>\n",
       "      <td>-0.060197</td>\n",
       "      <td>-0.117156</td>\n",
       "      <td>-0.356776</td>\n",
       "    </tr>\n",
       "    <tr>\n",
       "      <th>23262</th>\n",
       "      <td>0.703895</td>\n",
       "      <td>-1.065216</td>\n",
       "      <td>-1.115429</td>\n",
       "      <td>-0.194257</td>\n",
       "      <td>1.033886</td>\n",
       "      <td>-0.208585</td>\n",
       "      <td>-0.213364</td>\n",
       "      <td>-0.600438</td>\n",
       "      <td>-0.060197</td>\n",
       "      <td>-0.117156</td>\n",
       "      <td>-0.356776</td>\n",
       "    </tr>\n",
       "    <tr>\n",
       "      <th>23263</th>\n",
       "      <td>-1.420666</td>\n",
       "      <td>-0.962849</td>\n",
       "      <td>-0.998404</td>\n",
       "      <td>-0.194257</td>\n",
       "      <td>1.033886</td>\n",
       "      <td>-0.208585</td>\n",
       "      <td>-0.213364</td>\n",
       "      <td>-0.600438</td>\n",
       "      <td>-0.060197</td>\n",
       "      <td>-0.117156</td>\n",
       "      <td>-0.356776</td>\n",
       "    </tr>\n",
       "    <tr>\n",
       "      <th>23264</th>\n",
       "      <td>0.703895</td>\n",
       "      <td>-0.553379</td>\n",
       "      <td>-0.881378</td>\n",
       "      <td>-0.194257</td>\n",
       "      <td>-0.967225</td>\n",
       "      <td>-0.208585</td>\n",
       "      <td>-0.213364</td>\n",
       "      <td>1.665450</td>\n",
       "      <td>-0.060197</td>\n",
       "      <td>-0.117156</td>\n",
       "      <td>-0.356776</td>\n",
       "    </tr>\n",
       "  </tbody>\n",
       "</table>\n",
       "<p>23265 rows × 11 columns</p>\n",
       "</div>"
      ],
      "text/plain": [
       "             0         1         2         3         4         5         6   \\\n",
       "0     -1.420666 -0.143909 -0.647326 -0.194257 -0.967225 -0.208585 -0.213364   \n",
       "1     -1.420666 -0.962849 -0.530301 -0.194257 -0.967225 -0.208585 -0.213364   \n",
       "2      0.703895 -1.065216 -0.998404 -0.194257  1.033886 -0.208585 -0.213364   \n",
       "3      0.703895 -0.348644 -0.062197 -0.194257  1.033886 -0.208585 -0.213364   \n",
       "4      0.703895 -0.348644 -0.647326 -0.194257  1.033886 -0.208585 -0.213364   \n",
       "...         ...       ...       ...       ...       ...       ...       ...   \n",
       "23260 -1.420666 -0.860481 -0.998404  5.147815 -0.967225 -0.208585 -0.213364   \n",
       "23261  0.703895  0.572664  0.639957 -0.194257  1.033886 -0.208585 -0.213364   \n",
       "23262  0.703895 -1.065216 -1.115429 -0.194257  1.033886 -0.208585 -0.213364   \n",
       "23263 -1.420666 -0.962849 -0.998404 -0.194257  1.033886 -0.208585 -0.213364   \n",
       "23264  0.703895 -0.553379 -0.881378 -0.194257 -0.967225 -0.208585 -0.213364   \n",
       "\n",
       "             7         8         9         10  \n",
       "0      1.665450 -0.060197 -0.117156 -0.356776  \n",
       "1      1.665450 -0.060197 -0.117156 -0.356776  \n",
       "2     -0.600438 -0.060197 -0.117156 -0.356776  \n",
       "3     -0.600438 -0.060197 -0.117156 -0.356776  \n",
       "4     -0.600438 -0.060197 -0.117156 -0.356776  \n",
       "...         ...       ...       ...       ...  \n",
       "23260 -0.600438 -0.060197 -0.117156 -0.356776  \n",
       "23261 -0.600438 -0.060197 -0.117156 -0.356776  \n",
       "23262 -0.600438 -0.060197 -0.117156 -0.356776  \n",
       "23263 -0.600438 -0.060197 -0.117156 -0.356776  \n",
       "23264  1.665450 -0.060197 -0.117156 -0.356776  \n",
       "\n",
       "[23265 rows x 11 columns]"
      ]
     },
     "execution_count": 7,
     "metadata": {},
     "output_type": "execute_result"
    }
   ],
   "source": [
    "previsoresdf = pd.DataFrame(previsores_esc)\n",
    "previsoresdf"
   ]
  },
  {
   "cell_type": "code",
   "execution_count": 8,
   "metadata": {},
   "outputs": [],
   "source": [
    "previsoresdf.dropna(inplace=True)"
   ]
  },
  {
   "cell_type": "markdown",
   "metadata": {},
   "source": [
    "## Base de Treino e Teste"
   ]
  },
  {
   "cell_type": "code",
   "execution_count": 9,
   "metadata": {},
   "outputs": [],
   "source": [
    "from sklearn.model_selection import train_test_split\n",
    "\n",
    "x_treino, x_teste, y_treino, y_teste = train_test_split(previsores_esc, alvo, test_size = 0.3, random_state = 0)"
   ]
  },
  {
   "cell_type": "code",
   "execution_count": 10,
   "metadata": {},
   "outputs": [
    {
     "data": {
      "text/plain": [
       "(16285, 11)"
      ]
     },
     "execution_count": 10,
     "metadata": {},
     "output_type": "execute_result"
    }
   ],
   "source": [
    "x_treino.shape"
   ]
  },
  {
   "cell_type": "code",
   "execution_count": 11,
   "metadata": {},
   "outputs": [
    {
     "data": {
      "text/plain": [
       "(6980, 11)"
      ]
     },
     "execution_count": 11,
     "metadata": {},
     "output_type": "execute_result"
    }
   ],
   "source": [
    "x_teste.shape"
   ]
  },
  {
   "cell_type": "code",
   "execution_count": 12,
   "metadata": {},
   "outputs": [
    {
     "data": {
      "text/plain": [
       "(16285,)"
      ]
     },
     "execution_count": 12,
     "metadata": {},
     "output_type": "execute_result"
    }
   ],
   "source": [
    "y_treino.shape"
   ]
  },
  {
   "cell_type": "code",
   "execution_count": 13,
   "metadata": {},
   "outputs": [
    {
     "data": {
      "text/plain": [
       "(6980,)"
      ]
     },
     "execution_count": 13,
     "metadata": {},
     "output_type": "execute_result"
    }
   ],
   "source": [
    "y_teste.shape"
   ]
  },
  {
   "cell_type": "markdown",
   "metadata": {},
   "source": [
    "## Árvore de Decisão"
   ]
  },
  {
   "cell_type": "code",
   "execution_count": 14,
   "metadata": {},
   "outputs": [
    {
     "data": {
      "text/plain": [
       "[Text(0.4869791666666667, 0.9166666666666666, 'X[0] <= -0.358\\nentropy = 0.209\\nsamples = 16285\\nvalue = [15748, 537]'),\n",
       " Text(0.2916666666666667, 0.75, 'X[1] <= 1.136\\nentropy = 0.097\\nsamples = 5449\\nvalue = [5381, 68]'),\n",
       " Text(0.16666666666666666, 0.5833333333333334, 'X[2] <= -0.94\\nentropy = 0.086\\nsamples = 5155\\nvalue = [5099, 56]'),\n",
       " Text(0.08333333333333333, 0.4166666666666667, 'X[1] <= -1.116\\nentropy = 0.143\\nsamples = 1136\\nvalue = [1113, 23]'),\n",
       " Text(0.041666666666666664, 0.25, 'X[1] <= -1.424\\nentropy = 0.076\\nsamples = 428\\nvalue = [424, 4]'),\n",
       " Text(0.020833333333333332, 0.08333333333333333, 'entropy = 0.469\\nsamples = 20\\nvalue = [18, 2]'),\n",
       " Text(0.0625, 0.08333333333333333, 'entropy = 0.045\\nsamples = 408\\nvalue = [406, 2]'),\n",
       " Text(0.125, 0.25, 'X[1] <= -0.4\\nentropy = 0.178\\nsamples = 708\\nvalue = [689, 19]'),\n",
       " Text(0.10416666666666667, 0.08333333333333333, 'entropy = 0.167\\nsamples = 648\\nvalue = [632, 16]'),\n",
       " Text(0.14583333333333334, 0.08333333333333333, 'entropy = 0.286\\nsamples = 60\\nvalue = [57, 3]'),\n",
       " Text(0.25, 0.4166666666666667, 'X[4] <= 0.033\\nentropy = 0.069\\nsamples = 4019\\nvalue = [3986, 33]'),\n",
       " Text(0.20833333333333334, 0.25, 'X[1] <= 0.112\\nentropy = 0.042\\nsamples = 2178\\nvalue = [2168, 10]'),\n",
       " Text(0.1875, 0.08333333333333333, 'entropy = 0.05\\nsamples = 1776\\nvalue = [1766, 10]'),\n",
       " Text(0.22916666666666666, 0.08333333333333333, 'entropy = 0.0\\nsamples = 402\\nvalue = [402, 0]'),\n",
       " Text(0.2916666666666667, 0.25, 'X[2] <= -0.589\\nentropy = 0.097\\nsamples = 1841\\nvalue = [1818, 23]'),\n",
       " Text(0.2708333333333333, 0.08333333333333333, 'entropy = 0.123\\nsamples = 890\\nvalue = [875, 15]'),\n",
       " Text(0.3125, 0.08333333333333333, 'entropy = 0.07\\nsamples = 951\\nvalue = [943, 8]'),\n",
       " Text(0.4166666666666667, 0.5833333333333334, 'X[7] <= 0.533\\nentropy = 0.246\\nsamples = 294\\nvalue = [282, 12]'),\n",
       " Text(0.3958333333333333, 0.4166666666666667, 'X[2] <= 2.922\\nentropy = 0.305\\nsamples = 220\\nvalue = [208, 12]'),\n",
       " Text(0.375, 0.25, 'X[5] <= 2.293\\nentropy = 0.335\\nsamples = 194\\nvalue = [182, 12]'),\n",
       " Text(0.3541666666666667, 0.08333333333333333, 'entropy = 0.364\\nsamples = 173\\nvalue = [161, 12]'),\n",
       " Text(0.3958333333333333, 0.08333333333333333, 'entropy = 0.0\\nsamples = 21\\nvalue = [21, 0]'),\n",
       " Text(0.4166666666666667, 0.25, 'entropy = 0.0\\nsamples = 26\\nvalue = [26, 0]'),\n",
       " Text(0.4375, 0.4166666666666667, 'entropy = 0.0\\nsamples = 74\\nvalue = [74, 0]'),\n",
       " Text(0.6822916666666666, 0.75, 'X[2] <= 0.347\\nentropy = 0.257\\nsamples = 10836\\nvalue = [10367, 469]'),\n",
       " Text(0.53125, 0.5833333333333334, 'X[7] <= 0.533\\nentropy = 0.225\\nsamples = 7002\\nvalue = [6748, 254]'),\n",
       " Text(0.4791666666666667, 0.4166666666666667, 'X[9] <= 4.209\\nentropy = 0.247\\nsamples = 5195\\nvalue = [4982, 213]'),\n",
       " Text(0.4583333333333333, 0.25, 'X[3] <= 2.477\\nentropy = 0.249\\nsamples = 5141\\nvalue = [4928, 213]'),\n",
       " Text(0.4375, 0.08333333333333333, 'entropy = 0.254\\nsamples = 4894\\nvalue = [4686, 208]'),\n",
       " Text(0.4791666666666667, 0.08333333333333333, 'entropy = 0.143\\nsamples = 247\\nvalue = [242, 5]'),\n",
       " Text(0.5, 0.25, 'entropy = 0.0\\nsamples = 54\\nvalue = [54, 0]'),\n",
       " Text(0.5833333333333334, 0.4166666666666667, 'X[1] <= -0.912\\nentropy = 0.156\\nsamples = 1807\\nvalue = [1766, 41]'),\n",
       " Text(0.5416666666666666, 0.25, 'X[2] <= -0.823\\nentropy = 0.302\\nsamples = 242\\nvalue = [229, 13]'),\n",
       " Text(0.5208333333333334, 0.08333333333333333, 'entropy = 0.397\\nsamples = 140\\nvalue = [129, 11]'),\n",
       " Text(0.5625, 0.08333333333333333, 'entropy = 0.139\\nsamples = 102\\nvalue = [100, 2]'),\n",
       " Text(0.625, 0.25, 'X[1] <= -0.4\\nentropy = 0.129\\nsamples = 1565\\nvalue = [1537, 28]'),\n",
       " Text(0.6041666666666666, 0.08333333333333333, 'entropy = 0.169\\nsamples = 599\\nvalue = [584, 15]'),\n",
       " Text(0.6458333333333334, 0.08333333333333333, 'entropy = 0.103\\nsamples = 966\\nvalue = [953, 13]'),\n",
       " Text(0.8333333333333334, 0.5833333333333334, 'X[1] <= 2.671\\nentropy = 0.312\\nsamples = 3834\\nvalue = [3619, 215]'),\n",
       " Text(0.75, 0.4166666666666667, 'X[8] <= 8.276\\nentropy = 0.319\\nsamples = 3605\\nvalue = [3396, 209]'),\n",
       " Text(0.7083333333333334, 0.25, 'X[1] <= -0.093\\nentropy = 0.316\\nsamples = 3583\\nvalue = [3378, 205]'),\n",
       " Text(0.6875, 0.08333333333333333, 'entropy = 0.116\\nsamples = 64\\nvalue = [63, 1]'),\n",
       " Text(0.7291666666666666, 0.08333333333333333, 'entropy = 0.319\\nsamples = 3519\\nvalue = [3315, 204]'),\n",
       " Text(0.7916666666666666, 0.25, 'X[1] <= 1.34\\nentropy = 0.684\\nsamples = 22\\nvalue = [18, 4]'),\n",
       " Text(0.7708333333333334, 0.08333333333333333, 'entropy = 0.485\\nsamples = 19\\nvalue = [17, 2]'),\n",
       " Text(0.8125, 0.08333333333333333, 'entropy = 0.918\\nsamples = 3\\nvalue = [1, 2]'),\n",
       " Text(0.9166666666666666, 0.4166666666666667, 'X[2] <= 4.326\\nentropy = 0.175\\nsamples = 229\\nvalue = [223, 6]'),\n",
       " Text(0.875, 0.25, 'X[1] <= 3.081\\nentropy = 0.154\\nsamples = 225\\nvalue = [220, 5]'),\n",
       " Text(0.8541666666666666, 0.08333333333333333, 'entropy = 0.185\\nsamples = 178\\nvalue = [173, 5]'),\n",
       " Text(0.8958333333333334, 0.08333333333333333, 'entropy = 0.0\\nsamples = 47\\nvalue = [47, 0]'),\n",
       " Text(0.9583333333333334, 0.25, 'X[4] <= 0.033\\nentropy = 0.811\\nsamples = 4\\nvalue = [3, 1]'),\n",
       " Text(0.9375, 0.08333333333333333, 'entropy = 0.0\\nsamples = 3\\nvalue = [3, 0]'),\n",
       " Text(0.9791666666666666, 0.08333333333333333, 'entropy = 0.0\\nsamples = 1\\nvalue = [0, 1]')]"
      ]
     },
     "execution_count": 14,
     "metadata": {},
     "output_type": "execute_result"
    },
    {
     "data": {
      "image/png": "[encoded data removed]",
      "text/plain": [
       "<Figure size 432x288 with 1 Axes>"
      ]
     },
     "metadata": {
      "needs_background": "light"
     },
     "output_type": "display_data"
    }
   ],
   "source": [
    "from sklearn.tree import DecisionTreeClassifier\n",
    "from sklearn import tree\n",
    "\n",
    "arvore = DecisionTreeClassifier(criterion='entropy', random_state = 0, max_depth=5)\n",
    "_arvore = arvore.fit(x_treino, y_treino)\n",
    "\n",
    "tree.plot_tree(_arvore)"
   ]
  },
  {
   "cell_type": "code",
   "execution_count": 15,
   "metadata": {},
   "outputs": [
    {
     "data": {
      "text/plain": [
       "array([0., 0., 0., ..., 0., 0., 0.])"
      ]
     },
     "execution_count": 15,
     "metadata": {},
     "output_type": "execute_result"
    }
   ],
   "source": [
    "previsoes_arvore = arvore.predict(x_teste)\n",
    "previsoes_arvore"
   ]
  },
  {
   "cell_type": "code",
   "execution_count": 16,
   "metadata": {},
   "outputs": [
    {
     "data": {
      "text/plain": [
       "array([0., 0., 0., ..., 0., 0., 0.])"
      ]
     },
     "execution_count": 16,
     "metadata": {},
     "output_type": "execute_result"
    }
   ],
   "source": [
    "y_teste"
   ]
  },
  {
   "cell_type": "code",
   "execution_count": 17,
   "metadata": {},
   "outputs": [],
   "source": [
    "from sklearn.metrics import accuracy_score, confusion_matrix, classification_report"
   ]
  },
  {
   "cell_type": "code",
   "execution_count": 18,
   "metadata": {},
   "outputs": [
    {
     "name": "stdout",
     "output_type": "stream",
     "text": [
      "Acurácia: 96.72%\n"
     ]
    }
   ],
   "source": [
    "print(\"Acurácia: %.2f%%\" % (accuracy_score(y_teste, previsoes_arvore) * 100.0))"
   ]
  },
  {
   "cell_type": "code",
   "execution_count": 19,
   "metadata": {},
   "outputs": [
    {
     "data": {
      "text/plain": [
       "array([[6750,    1],\n",
       "       [ 228,    1]], dtype=int64)"
      ]
     },
     "execution_count": 19,
     "metadata": {},
     "output_type": "execute_result"
    }
   ],
   "source": [
    "confusion_matrix(y_teste, previsoes_arvore)"
   ]
  },
  {
   "cell_type": "code",
   "execution_count": 20,
   "metadata": {},
   "outputs": [
    {
     "name": "stdout",
     "output_type": "stream",
     "text": [
      "              precision    recall  f1-score   support\n",
      "\n",
      "         0.0       0.97      1.00      0.98      6751\n",
      "         1.0       0.50      0.00      0.01       229\n",
      "\n",
      "    accuracy                           0.97      6980\n",
      "   macro avg       0.73      0.50      0.50      6980\n",
      "weighted avg       0.95      0.97      0.95      6980\n",
      "\n"
     ]
    }
   ],
   "source": [
    "print(classification_report(y_teste, previsoes_arvore))"
   ]
  },
  {
   "cell_type": "markdown",
   "metadata": {},
   "source": [
    "## Treino"
   ]
  },
  {
   "cell_type": "code",
   "execution_count": 21,
   "metadata": {},
   "outputs": [
    {
     "data": {
      "text/plain": [
       "array([0., 0., 0., ..., 0., 0., 0.])"
      ]
     },
     "execution_count": 21,
     "metadata": {},
     "output_type": "execute_result"
    }
   ],
   "source": [
    "previsoes_treino = arvore.predict(x_treino)\n",
    "previsoes_treino"
   ]
  },
  {
   "cell_type": "code",
   "execution_count": 22,
   "metadata": {},
   "outputs": [
    {
     "name": "stdout",
     "output_type": "stream",
     "text": [
      "Acurácia: 96.71%\n"
     ]
    }
   ],
   "source": [
    "print(\"Acurácia: %.2f%%\" % (accuracy_score(y_treino, previsoes_treino) * 100.0))"
   ]
  },
  {
   "cell_type": "code",
   "execution_count": 23,
   "metadata": {},
   "outputs": [
    {
     "data": {
      "text/plain": [
       "array([[15747,     1],\n",
       "       [  534,     3]], dtype=int64)"
      ]
     },
     "execution_count": 23,
     "metadata": {},
     "output_type": "execute_result"
    }
   ],
   "source": [
    "confusion_matrix(y_treino, previsoes_treino)"
   ]
  }
 ],
 "metadata": {
  "kernelspec": {
   "display_name": "Python 3.9.12 ('base')",
   "language": "python",
   "name": "python3"
  },
  "language_info": {
   "codemirror_mode": {
    "name": "ipython",
    "version": 3
   },
   "file_extension": ".py",
   "mimetype": "text/x-python",
   "name": "python",
   "nbconvert_exporter": "python",
   "pygments_lexer": "ipython3",
   "version": "3.9.12"
  },
  "orig_nbformat": 4,
  "vscode": {
   "interpreter": {
    "hash": "9f4b0e2ea0d532abee2ce5032a659fdabae911351ff90655966afe3d19270f8c"
   }
  }
 },
 "nbformat": 4,
 "nbformat_minor": 2
}
