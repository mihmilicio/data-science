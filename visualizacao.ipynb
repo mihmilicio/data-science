{
 "cells": [
  {
   "cell_type": "markdown",
   "metadata": {},
   "source": [
    "# Visualização dos Dados"
   ]
  },
  {
   "cell_type": "code",
   "execution_count": 1,
   "metadata": {},
   "outputs": [],
   "source": [
    "import numpy as np\n",
    "import pandas as pd\n",
    "import plotly.express as px\n",
    "import math\n",
    "from matplotlib import pyplot as plt\n",
    "import seaborn as sns\n",
    "import warnings\n",
    "from itertools import chain\n",
    "\n",
    "warnings.filterwarnings(\"ignore\", category=FutureWarning)\n",
    "sns.set()\n",
    "pd.set_option('display.max_columns', None)"
   ]
  },
  {
   "cell_type": "code",
   "execution_count": 2,
   "metadata": {},
   "outputs": [
    {
     "data": {
      "text/html": [
       "<div>\n",
       "<style scoped>\n",
       "    .dataframe tbody tr th:only-of-type {\n",
       "        vertical-align: middle;\n",
       "    }\n",
       "\n",
       "    .dataframe tbody tr th {\n",
       "        vertical-align: top;\n",
       "    }\n",
       "\n",
       "    .dataframe thead th {\n",
       "        text-align: right;\n",
       "    }\n",
       "</style>\n",
       "<table border=\"1\" class=\"dataframe\">\n",
       "  <thead>\n",
       "    <tr style=\"text-align: right;\">\n",
       "      <th></th>\n",
       "      <th>Unnamed: 0</th>\n",
       "      <th>ResponseId</th>\n",
       "      <th>MainBranch</th>\n",
       "      <th>Employment</th>\n",
       "      <th>RemoteWork</th>\n",
       "      <th>CodingActivities</th>\n",
       "      <th>EdLevel</th>\n",
       "      <th>LearnCode</th>\n",
       "      <th>LearnCodeOnline</th>\n",
       "      <th>LearnCodeCoursesCert</th>\n",
       "      <th>YearsCode</th>\n",
       "      <th>YearsCodePro</th>\n",
       "      <th>DevType</th>\n",
       "      <th>OrgSize</th>\n",
       "      <th>Country</th>\n",
       "      <th>Currency</th>\n",
       "      <th>GrossWage</th>\n",
       "      <th>WageFreq</th>\n",
       "      <th>LanguageHaveWorkedWith</th>\n",
       "      <th>LanguageWantToWorkWith</th>\n",
       "      <th>DatabaseHaveWorkedWith</th>\n",
       "      <th>DatabaseWantToWorkWith</th>\n",
       "      <th>PlatformHaveWorkedWith</th>\n",
       "      <th>PlatformWantToWorkWith</th>\n",
       "      <th>WebframeHaveWorkedWith</th>\n",
       "      <th>WebframeWantToWorkWith</th>\n",
       "      <th>MiscTechHaveWorkedWith</th>\n",
       "      <th>MiscTechWantToWorkWith</th>\n",
       "      <th>ToolsTechHaveWorkedWith</th>\n",
       "      <th>ToolsTechWantToWorkWith</th>\n",
       "      <th>NEWCollabToolsHaveWorkedWith</th>\n",
       "      <th>NEWCollabToolsWantToWorkWith</th>\n",
       "      <th>OpSysProfessionalUse</th>\n",
       "      <th>OpSysPersonalUse</th>\n",
       "      <th>VersionControlSystem</th>\n",
       "      <th>VCInteraction</th>\n",
       "      <th>OfficeStackAsyncHaveWorkedWith</th>\n",
       "      <th>OfficeStackAsyncWantToWorkWith</th>\n",
       "      <th>OfficeStackSyncHaveWorkedWith</th>\n",
       "      <th>OfficeStackSyncWantToWorkWith</th>\n",
       "      <th>Blockchain</th>\n",
       "      <th>SOVisitFreq</th>\n",
       "      <th>Age</th>\n",
       "      <th>Gender</th>\n",
       "      <th>Trans</th>\n",
       "      <th>Sexuality</th>\n",
       "      <th>Ethnicity</th>\n",
       "      <th>Accessibility</th>\n",
       "      <th>MentalHealth</th>\n",
       "      <th>ICorPM</th>\n",
       "      <th>WorkExp</th>\n",
       "      <th>TimeSearching</th>\n",
       "      <th>TimeAnswering</th>\n",
       "      <th>ProfessionalTech</th>\n",
       "      <th>YearlyWageInDollar</th>\n",
       "    </tr>\n",
       "  </thead>\n",
       "  <tbody>\n",
       "    <tr>\n",
       "      <th>0</th>\n",
       "      <td>0</td>\n",
       "      <td>1</td>\n",
       "      <td>none</td>\n",
       "      <td>NaN</td>\n",
       "      <td>NaN</td>\n",
       "      <td>NaN</td>\n",
       "      <td>NaN</td>\n",
       "      <td>NaN</td>\n",
       "      <td>NaN</td>\n",
       "      <td>NaN</td>\n",
       "      <td>NaN</td>\n",
       "      <td>NaN</td>\n",
       "      <td>NaN</td>\n",
       "      <td>NaN</td>\n",
       "      <td>NaN</td>\n",
       "      <td>NaN</td>\n",
       "      <td>NaN</td>\n",
       "      <td>NaN</td>\n",
       "      <td>NaN</td>\n",
       "      <td>NaN</td>\n",
       "      <td>NaN</td>\n",
       "      <td>NaN</td>\n",
       "      <td>NaN</td>\n",
       "      <td>NaN</td>\n",
       "      <td>NaN</td>\n",
       "      <td>NaN</td>\n",
       "      <td>NaN</td>\n",
       "      <td>NaN</td>\n",
       "      <td>NaN</td>\n",
       "      <td>NaN</td>\n",
       "      <td>NaN</td>\n",
       "      <td>NaN</td>\n",
       "      <td>NaN</td>\n",
       "      <td>NaN</td>\n",
       "      <td>NaN</td>\n",
       "      <td>NaN</td>\n",
       "      <td>NaN</td>\n",
       "      <td>NaN</td>\n",
       "      <td>NaN</td>\n",
       "      <td>NaN</td>\n",
       "      <td>NaN</td>\n",
       "      <td>NaN</td>\n",
       "      <td>NaN</td>\n",
       "      <td>NaN</td>\n",
       "      <td>NaN</td>\n",
       "      <td>NaN</td>\n",
       "      <td>NaN</td>\n",
       "      <td>NaN</td>\n",
       "      <td>NaN</td>\n",
       "      <td>NaN</td>\n",
       "      <td>NaN</td>\n",
       "      <td>NaN</td>\n",
       "      <td>NaN</td>\n",
       "      <td>NaN</td>\n",
       "      <td>NaN</td>\n",
       "    </tr>\n",
       "    <tr>\n",
       "      <th>1</th>\n",
       "      <td>1</td>\n",
       "      <td>2</td>\n",
       "      <td>dev</td>\n",
       "      <td>employed_full_time</td>\n",
       "      <td>remote</td>\n",
       "      <td>hobby;open_source</td>\n",
       "      <td>NaN</td>\n",
       "      <td>NaN</td>\n",
       "      <td>NaN</td>\n",
       "      <td>NaN</td>\n",
       "      <td>NaN</td>\n",
       "      <td>NaN</td>\n",
       "      <td>NaN</td>\n",
       "      <td>NaN</td>\n",
       "      <td>canada</td>\n",
       "      <td>CAD</td>\n",
       "      <td>NaN</td>\n",
       "      <td>NaN</td>\n",
       "      <td>JavaScript;TypeScript</td>\n",
       "      <td>Rust;TypeScript</td>\n",
       "      <td>NaN</td>\n",
       "      <td>NaN</td>\n",
       "      <td>NaN</td>\n",
       "      <td>NaN</td>\n",
       "      <td>NaN</td>\n",
       "      <td>NaN</td>\n",
       "      <td>NaN</td>\n",
       "      <td>NaN</td>\n",
       "      <td>NaN</td>\n",
       "      <td>NaN</td>\n",
       "      <td>NaN</td>\n",
       "      <td>NaN</td>\n",
       "      <td>macOS</td>\n",
       "      <td>Windows Subsystem for Linux (WSL)</td>\n",
       "      <td>Git</td>\n",
       "      <td>NaN</td>\n",
       "      <td>NaN</td>\n",
       "      <td>NaN</td>\n",
       "      <td>NaN</td>\n",
       "      <td>NaN</td>\n",
       "      <td>Very unfavorable</td>\n",
       "      <td>daily</td>\n",
       "      <td>NaN</td>\n",
       "      <td>NaN</td>\n",
       "      <td>NaN</td>\n",
       "      <td>NaN</td>\n",
       "      <td>NaN</td>\n",
       "      <td>NaN</td>\n",
       "      <td>NaN</td>\n",
       "      <td>NaN</td>\n",
       "      <td>NaN</td>\n",
       "      <td>NaN</td>\n",
       "      <td>NaN</td>\n",
       "      <td>NaN</td>\n",
       "      <td>NaN</td>\n",
       "    </tr>\n",
       "    <tr>\n",
       "      <th>2</th>\n",
       "      <td>2</td>\n",
       "      <td>3</td>\n",
       "      <td>part_dev</td>\n",
       "      <td>employed_full_time</td>\n",
       "      <td>hybrid</td>\n",
       "      <td>hobby</td>\n",
       "      <td>master</td>\n",
       "      <td>books;someone;other_online_resources_(e.g._vid...</td>\n",
       "      <td>technical_documentation;blogs;programming_game...</td>\n",
       "      <td>NaN</td>\n",
       "      <td>14</td>\n",
       "      <td>5</td>\n",
       "      <td>data_scientist_or_machine_learning_specialist;...</td>\n",
       "      <td>20 to 99 employees</td>\n",
       "      <td>united_kingdom_of_great_britain_and_northern_i...</td>\n",
       "      <td>GBP</td>\n",
       "      <td>32000.0</td>\n",
       "      <td>Yearly</td>\n",
       "      <td>C#;C++;HTML/CSS;JavaScript;Python</td>\n",
       "      <td>C#;C++;HTML/CSS;JavaScript;TypeScript</td>\n",
       "      <td>Microsoft SQL Server</td>\n",
       "      <td>Microsoft SQL Server</td>\n",
       "      <td>NaN</td>\n",
       "      <td>NaN</td>\n",
       "      <td>Angular.js</td>\n",
       "      <td>Angular;Angular.js</td>\n",
       "      <td>Pandas</td>\n",
       "      <td>.NET</td>\n",
       "      <td>NaN</td>\n",
       "      <td>NaN</td>\n",
       "      <td>Notepad++;Visual Studio</td>\n",
       "      <td>Notepad++;Visual Studio</td>\n",
       "      <td>Windows</td>\n",
       "      <td>Windows</td>\n",
       "      <td>Git</td>\n",
       "      <td>Code editor</td>\n",
       "      <td>NaN</td>\n",
       "      <td>NaN</td>\n",
       "      <td>Microsoft Teams</td>\n",
       "      <td>Microsoft Teams</td>\n",
       "      <td>Very unfavorable</td>\n",
       "      <td>multiple_day</td>\n",
       "      <td>25-34 years old</td>\n",
       "      <td>man</td>\n",
       "      <td>no</td>\n",
       "      <td>bisexual</td>\n",
       "      <td>white</td>\n",
       "      <td>none</td>\n",
       "      <td>emotional;anxiety</td>\n",
       "      <td>NaN</td>\n",
       "      <td>NaN</td>\n",
       "      <td>NaN</td>\n",
       "      <td>NaN</td>\n",
       "      <td>NaN</td>\n",
       "      <td>40205.0</td>\n",
       "    </tr>\n",
       "    <tr>\n",
       "      <th>3</th>\n",
       "      <td>3</td>\n",
       "      <td>4</td>\n",
       "      <td>dev</td>\n",
       "      <td>employed_full_time</td>\n",
       "      <td>remote</td>\n",
       "      <td>i_don’t_code_outside_of_work</td>\n",
       "      <td>bachelor</td>\n",
       "      <td>books;school_(i.e._university_college_etc)</td>\n",
       "      <td>NaN</td>\n",
       "      <td>NaN</td>\n",
       "      <td>20</td>\n",
       "      <td>17</td>\n",
       "      <td>developer_full_stack</td>\n",
       "      <td>100 to 499 employees</td>\n",
       "      <td>israel</td>\n",
       "      <td>ILS</td>\n",
       "      <td>60000.0</td>\n",
       "      <td>Monthly</td>\n",
       "      <td>C#;JavaScript;SQL;TypeScript</td>\n",
       "      <td>C#;SQL;TypeScript</td>\n",
       "      <td>Microsoft SQL Server</td>\n",
       "      <td>Microsoft SQL Server</td>\n",
       "      <td>NaN</td>\n",
       "      <td>NaN</td>\n",
       "      <td>ASP.NET;ASP.NET Core</td>\n",
       "      <td>ASP.NET;ASP.NET Core</td>\n",
       "      <td>.NET</td>\n",
       "      <td>.NET</td>\n",
       "      <td>NaN</td>\n",
       "      <td>NaN</td>\n",
       "      <td>Notepad++;Visual Studio;Visual Studio Code</td>\n",
       "      <td>Notepad++;Visual Studio;Visual Studio Code</td>\n",
       "      <td>Windows</td>\n",
       "      <td>Windows</td>\n",
       "      <td>Git</td>\n",
       "      <td>Code editor;Command-line;Version control hosti...</td>\n",
       "      <td>Jira Work Management;Trello</td>\n",
       "      <td>Jira Work Management;Trello</td>\n",
       "      <td>Slack;Zoom</td>\n",
       "      <td>Slack;Zoom</td>\n",
       "      <td>Very unfavorable</td>\n",
       "      <td>daily</td>\n",
       "      <td>35-44 years old</td>\n",
       "      <td>man</td>\n",
       "      <td>no</td>\n",
       "      <td>heterosexual</td>\n",
       "      <td>white</td>\n",
       "      <td>none</td>\n",
       "      <td>none</td>\n",
       "      <td>NaN</td>\n",
       "      <td>NaN</td>\n",
       "      <td>NaN</td>\n",
       "      <td>NaN</td>\n",
       "      <td>NaN</td>\n",
       "      <td>215232.0</td>\n",
       "    </tr>\n",
       "    <tr>\n",
       "      <th>4</th>\n",
       "      <td>4</td>\n",
       "      <td>5</td>\n",
       "      <td>dev</td>\n",
       "      <td>employed_full_time</td>\n",
       "      <td>hybrid</td>\n",
       "      <td>hobby</td>\n",
       "      <td>bachelor</td>\n",
       "      <td>other_online_resources_(e.g._videos_blogs_foru...</td>\n",
       "      <td>technical_documentation;blogs;stack_overflow;o...</td>\n",
       "      <td>NaN</td>\n",
       "      <td>8</td>\n",
       "      <td>3</td>\n",
       "      <td>developer_front_end;developer_full_stack;devel...</td>\n",
       "      <td>20 to 99 employees</td>\n",
       "      <td>united_states_of_america</td>\n",
       "      <td>USD</td>\n",
       "      <td>NaN</td>\n",
       "      <td>NaN</td>\n",
       "      <td>C#;HTML/CSS;JavaScript;SQL;Swift;TypeScript</td>\n",
       "      <td>C#;Elixir;F#;Go;JavaScript;Rust;TypeScript</td>\n",
       "      <td>Cloud Firestore;Elasticsearch;Microsoft SQL Se...</td>\n",
       "      <td>Cloud Firestore;Elasticsearch;Firebase Realtim...</td>\n",
       "      <td>Firebase;Microsoft Azure</td>\n",
       "      <td>Firebase;Microsoft Azure</td>\n",
       "      <td>Angular;ASP.NET;ASP.NET Core ;jQuery;Node.js</td>\n",
       "      <td>Angular;ASP.NET Core ;Blazor;Node.js</td>\n",
       "      <td>.NET</td>\n",
       "      <td>.NET;Apache Kafka</td>\n",
       "      <td>npm</td>\n",
       "      <td>Docker;Kubernetes</td>\n",
       "      <td>Notepad++;Visual Studio;Visual Studio Code;Xcode</td>\n",
       "      <td>Rider;Visual Studio;Visual Studio Code</td>\n",
       "      <td>Windows</td>\n",
       "      <td>macOS;Windows</td>\n",
       "      <td>Git;Other (please specify):</td>\n",
       "      <td>Code editor</td>\n",
       "      <td>NaN</td>\n",
       "      <td>NaN</td>\n",
       "      <td>Microsoft Teams;Zoom</td>\n",
       "      <td>NaN</td>\n",
       "      <td>Unfavorable</td>\n",
       "      <td>multiple_day</td>\n",
       "      <td>25-34 years old</td>\n",
       "      <td>NaN</td>\n",
       "      <td>NaN</td>\n",
       "      <td>NaN</td>\n",
       "      <td>NaN</td>\n",
       "      <td>NaN</td>\n",
       "      <td>NaN</td>\n",
       "      <td>NaN</td>\n",
       "      <td>NaN</td>\n",
       "      <td>NaN</td>\n",
       "      <td>NaN</td>\n",
       "      <td>NaN</td>\n",
       "      <td>NaN</td>\n",
       "    </tr>\n",
       "  </tbody>\n",
       "</table>\n",
       "</div>"
      ],
      "text/plain": [
       "   Unnamed: 0  ResponseId MainBranch          Employment RemoteWork  \\\n",
       "0           0           1       none                 NaN        NaN   \n",
       "1           1           2        dev  employed_full_time     remote   \n",
       "2           2           3   part_dev  employed_full_time     hybrid   \n",
       "3           3           4        dev  employed_full_time     remote   \n",
       "4           4           5        dev  employed_full_time     hybrid   \n",
       "\n",
       "               CodingActivities   EdLevel  \\\n",
       "0                           NaN       NaN   \n",
       "1             hobby;open_source       NaN   \n",
       "2                         hobby    master   \n",
       "3  i_don’t_code_outside_of_work  bachelor   \n",
       "4                         hobby  bachelor   \n",
       "\n",
       "                                           LearnCode  \\\n",
       "0                                                NaN   \n",
       "1                                                NaN   \n",
       "2  books;someone;other_online_resources_(e.g._vid...   \n",
       "3         books;school_(i.e._university_college_etc)   \n",
       "4  other_online_resources_(e.g._videos_blogs_foru...   \n",
       "\n",
       "                                     LearnCodeOnline LearnCodeCoursesCert  \\\n",
       "0                                                NaN                  NaN   \n",
       "1                                                NaN                  NaN   \n",
       "2  technical_documentation;blogs;programming_game...                  NaN   \n",
       "3                                                NaN                  NaN   \n",
       "4  technical_documentation;blogs;stack_overflow;o...                  NaN   \n",
       "\n",
       "  YearsCode YearsCodePro                                            DevType  \\\n",
       "0       NaN          NaN                                                NaN   \n",
       "1       NaN          NaN                                                NaN   \n",
       "2        14            5  data_scientist_or_machine_learning_specialist;...   \n",
       "3        20           17                               developer_full_stack   \n",
       "4         8            3  developer_front_end;developer_full_stack;devel...   \n",
       "\n",
       "                OrgSize                                            Country  \\\n",
       "0                   NaN                                                NaN   \n",
       "1                   NaN                                             canada   \n",
       "2    20 to 99 employees  united_kingdom_of_great_britain_and_northern_i...   \n",
       "3  100 to 499 employees                                             israel   \n",
       "4    20 to 99 employees                           united_states_of_america   \n",
       "\n",
       "  Currency  GrossWage WageFreq                       LanguageHaveWorkedWith  \\\n",
       "0      NaN        NaN      NaN                                          NaN   \n",
       "1      CAD        NaN      NaN                        JavaScript;TypeScript   \n",
       "2      GBP    32000.0   Yearly            C#;C++;HTML/CSS;JavaScript;Python   \n",
       "3      ILS    60000.0  Monthly                 C#;JavaScript;SQL;TypeScript   \n",
       "4      USD        NaN      NaN  C#;HTML/CSS;JavaScript;SQL;Swift;TypeScript   \n",
       "\n",
       "                       LanguageWantToWorkWith  \\\n",
       "0                                         NaN   \n",
       "1                             Rust;TypeScript   \n",
       "2       C#;C++;HTML/CSS;JavaScript;TypeScript   \n",
       "3                           C#;SQL;TypeScript   \n",
       "4  C#;Elixir;F#;Go;JavaScript;Rust;TypeScript   \n",
       "\n",
       "                              DatabaseHaveWorkedWith  \\\n",
       "0                                                NaN   \n",
       "1                                                NaN   \n",
       "2                               Microsoft SQL Server   \n",
       "3                               Microsoft SQL Server   \n",
       "4  Cloud Firestore;Elasticsearch;Microsoft SQL Se...   \n",
       "\n",
       "                              DatabaseWantToWorkWith  \\\n",
       "0                                                NaN   \n",
       "1                                                NaN   \n",
       "2                               Microsoft SQL Server   \n",
       "3                               Microsoft SQL Server   \n",
       "4  Cloud Firestore;Elasticsearch;Firebase Realtim...   \n",
       "\n",
       "     PlatformHaveWorkedWith    PlatformWantToWorkWith  \\\n",
       "0                       NaN                       NaN   \n",
       "1                       NaN                       NaN   \n",
       "2                       NaN                       NaN   \n",
       "3                       NaN                       NaN   \n",
       "4  Firebase;Microsoft Azure  Firebase;Microsoft Azure   \n",
       "\n",
       "                         WebframeHaveWorkedWith  \\\n",
       "0                                           NaN   \n",
       "1                                           NaN   \n",
       "2                                    Angular.js   \n",
       "3                         ASP.NET;ASP.NET Core    \n",
       "4  Angular;ASP.NET;ASP.NET Core ;jQuery;Node.js   \n",
       "\n",
       "                 WebframeWantToWorkWith MiscTechHaveWorkedWith  \\\n",
       "0                                   NaN                    NaN   \n",
       "1                                   NaN                    NaN   \n",
       "2                    Angular;Angular.js                 Pandas   \n",
       "3                 ASP.NET;ASP.NET Core                    .NET   \n",
       "4  Angular;ASP.NET Core ;Blazor;Node.js                   .NET   \n",
       "\n",
       "  MiscTechWantToWorkWith ToolsTechHaveWorkedWith ToolsTechWantToWorkWith  \\\n",
       "0                    NaN                     NaN                     NaN   \n",
       "1                    NaN                     NaN                     NaN   \n",
       "2                   .NET                     NaN                     NaN   \n",
       "3                   .NET                     NaN                     NaN   \n",
       "4      .NET;Apache Kafka                     npm       Docker;Kubernetes   \n",
       "\n",
       "                       NEWCollabToolsHaveWorkedWith  \\\n",
       "0                                               NaN   \n",
       "1                                               NaN   \n",
       "2                           Notepad++;Visual Studio   \n",
       "3        Notepad++;Visual Studio;Visual Studio Code   \n",
       "4  Notepad++;Visual Studio;Visual Studio Code;Xcode   \n",
       "\n",
       "                 NEWCollabToolsWantToWorkWith OpSysProfessionalUse  \\\n",
       "0                                         NaN                  NaN   \n",
       "1                                         NaN                macOS   \n",
       "2                     Notepad++;Visual Studio              Windows   \n",
       "3  Notepad++;Visual Studio;Visual Studio Code              Windows   \n",
       "4      Rider;Visual Studio;Visual Studio Code              Windows   \n",
       "\n",
       "                    OpSysPersonalUse         VersionControlSystem  \\\n",
       "0                                NaN                          NaN   \n",
       "1  Windows Subsystem for Linux (WSL)                          Git   \n",
       "2                            Windows                          Git   \n",
       "3                            Windows                          Git   \n",
       "4                      macOS;Windows  Git;Other (please specify):   \n",
       "\n",
       "                                       VCInteraction  \\\n",
       "0                                                NaN   \n",
       "1                                                NaN   \n",
       "2                                        Code editor   \n",
       "3  Code editor;Command-line;Version control hosti...   \n",
       "4                                        Code editor   \n",
       "\n",
       "  OfficeStackAsyncHaveWorkedWith OfficeStackAsyncWantToWorkWith  \\\n",
       "0                            NaN                            NaN   \n",
       "1                            NaN                            NaN   \n",
       "2                            NaN                            NaN   \n",
       "3    Jira Work Management;Trello    Jira Work Management;Trello   \n",
       "4                            NaN                            NaN   \n",
       "\n",
       "  OfficeStackSyncHaveWorkedWith OfficeStackSyncWantToWorkWith  \\\n",
       "0                           NaN                           NaN   \n",
       "1                           NaN                           NaN   \n",
       "2               Microsoft Teams               Microsoft Teams   \n",
       "3                    Slack;Zoom                    Slack;Zoom   \n",
       "4          Microsoft Teams;Zoom                           NaN   \n",
       "\n",
       "         Blockchain   SOVisitFreq              Age Gender Trans     Sexuality  \\\n",
       "0               NaN           NaN              NaN    NaN   NaN           NaN   \n",
       "1  Very unfavorable         daily              NaN    NaN   NaN           NaN   \n",
       "2  Very unfavorable  multiple_day  25-34 years old    man    no      bisexual   \n",
       "3  Very unfavorable         daily  35-44 years old    man    no  heterosexual   \n",
       "4       Unfavorable  multiple_day  25-34 years old    NaN   NaN           NaN   \n",
       "\n",
       "  Ethnicity Accessibility       MentalHealth ICorPM  WorkExp TimeSearching  \\\n",
       "0       NaN           NaN                NaN    NaN      NaN           NaN   \n",
       "1       NaN           NaN                NaN    NaN      NaN           NaN   \n",
       "2     white          none  emotional;anxiety    NaN      NaN           NaN   \n",
       "3     white          none               none    NaN      NaN           NaN   \n",
       "4       NaN           NaN                NaN    NaN      NaN           NaN   \n",
       "\n",
       "  TimeAnswering ProfessionalTech  YearlyWageInDollar  \n",
       "0           NaN              NaN                 NaN  \n",
       "1           NaN              NaN                 NaN  \n",
       "2           NaN              NaN             40205.0  \n",
       "3           NaN              NaN            215232.0  \n",
       "4           NaN              NaN                 NaN  "
      ]
     },
     "execution_count": 2,
     "metadata": {},
     "output_type": "execute_result"
    }
   ],
   "source": [
    "df = pd.read_csv('dataset/survey_results_public_clean.csv', sep=',', encoding='utf-8')\n",
    "df.head()"
   ]
  },
  {
   "cell_type": "code",
   "execution_count": 3,
   "metadata": {},
   "outputs": [
    {
     "name": "stdout",
     "output_type": "stream",
     "text": [
      "<class 'pandas.core.frame.DataFrame'>\n",
      "RangeIndex: 73268 entries, 0 to 73267\n",
      "Data columns (total 55 columns):\n",
      " #   Column                          Non-Null Count  Dtype  \n",
      "---  ------                          --------------  -----  \n",
      " 0   Unnamed: 0                      73268 non-null  int64  \n",
      " 1   ResponseId                      73268 non-null  int64  \n",
      " 2   MainBranch                      73268 non-null  object \n",
      " 3   Employment                      71709 non-null  object \n",
      " 4   RemoteWork                      58958 non-null  object \n",
      " 5   CodingActivities                58899 non-null  object \n",
      " 6   EdLevel                         71571 non-null  object \n",
      " 7   LearnCode                       71580 non-null  object \n",
      " 8   LearnCodeOnline                 50685 non-null  object \n",
      " 9   LearnCodeCoursesCert            29389 non-null  object \n",
      " 10  YearsCode                       71331 non-null  object \n",
      " 11  YearsCodePro                    51833 non-null  object \n",
      " 12  DevType                         61302 non-null  object \n",
      " 13  OrgSize                         51039 non-null  object \n",
      " 14  Country                         71771 non-null  object \n",
      " 15  Currency                        51264 non-null  object \n",
      " 16  GrossWage                       38422 non-null  float64\n",
      " 17  WageFreq                        44425 non-null  object \n",
      " 18  LanguageHaveWorkedWith          70975 non-null  object \n",
      " 19  LanguageWantToWorkWith          67027 non-null  object \n",
      " 20  DatabaseHaveWorkedWith          60121 non-null  object \n",
      " 21  DatabaseWantToWorkWith          51014 non-null  object \n",
      " 22  PlatformHaveWorkedWith          49924 non-null  object \n",
      " 23  PlatformWantToWorkWith          40415 non-null  object \n",
      " 24  WebframeHaveWorkedWith          53544 non-null  object \n",
      " 25  WebframeWantToWorkWith          46122 non-null  object \n",
      " 26  MiscTechHaveWorkedWith          44992 non-null  object \n",
      " 27  MiscTechWantToWorkWith          36810 non-null  object \n",
      " 28  ToolsTechHaveWorkedWith         54171 non-null  object \n",
      " 29  ToolsTechWantToWorkWith         46566 non-null  object \n",
      " 30  NEWCollabToolsHaveWorkedWith    70347 non-null  object \n",
      " 31  NEWCollabToolsWantToWorkWith    64108 non-null  object \n",
      " 32  OpSysProfessionalUse            65503 non-null  object \n",
      " 33  OpSysPersonalUse                70963 non-null  object \n",
      " 34  VersionControlSystem            71379 non-null  object \n",
      " 35  VCInteraction                   68156 non-null  object \n",
      " 36  OfficeStackAsyncHaveWorkedWith  46223 non-null  object \n",
      " 37  OfficeStackAsyncWantToWorkWith  32072 non-null  object \n",
      " 38  OfficeStackSyncHaveWorkedWith   62128 non-null  object \n",
      " 39  OfficeStackSyncWantToWorkWith   47688 non-null  object \n",
      " 40  Blockchain                      71071 non-null  object \n",
      " 41  SOVisitFreq                     70961 non-null  object \n",
      " 42  Age                             70946 non-null  object \n",
      " 43  Gender                          70853 non-null  object \n",
      " 44  Trans                           70315 non-null  object \n",
      " 45  Sexuality                       66565 non-null  object \n",
      " 46  Ethnicity                       69474 non-null  object \n",
      " 47  Accessibility                   67244 non-null  object \n",
      " 48  MentalHealth                    66447 non-null  object \n",
      " 49  ICorPM                          36283 non-null  object \n",
      " 50  WorkExp                         36769 non-null  float64\n",
      " 51  TimeSearching                   36198 non-null  object \n",
      " 52  TimeAnswering                   36022 non-null  object \n",
      " 53  ProfessionalTech                34906 non-null  object \n",
      " 54  YearlyWageInDollar              38071 non-null  float64\n",
      "dtypes: float64(3), int64(2), object(50)\n",
      "memory usage: 30.7+ MB\n"
     ]
    }
   ],
   "source": [
    "df.info()"
   ]
  },
  {
   "cell_type": "markdown",
   "metadata": {},
   "source": [
    "## Primeira seção\n",
    "\n",
    "Questões 1 a 18"
   ]
  },
  {
   "cell_type": "markdown",
   "metadata": {},
   "source": [
    "### Perfil\n",
    "\n",
    "Aqui observamos o perfil dos respondentes, categorizando-os em Desenvolvedor(a) (`dev`), Estudando (`learner`), Desenvolvedor(a) parcial (`part_dev`), Amador(a) (`hobbyist`), e Ex-desenvolvedor(a) (`ex_dev`). Respondentes que não se enquadram em nenhuma das descrições acima selecionaram `none`."
   ]
  },
  {
   "cell_type": "code",
   "execution_count": 13,
   "metadata": {},
   "outputs": [
    {
     "data": {
      "text/plain": [
       "<AxesSubplot:xlabel='COUNT', ylabel='MainBranch'>"
      ]
     },
     "execution_count": 13,
     "metadata": {},
     "output_type": "execute_result"
    },
    {
     "data": {
      "image/png": "[encoded data removed]",
      "text/plain": [
       "<Figure size 1080x360 with 1 Axes>"
      ]
     },
     "metadata": {},
     "output_type": "display_data"
    }
   ],
   "source": [
    "dfg_main_branch = df.groupby(['MainBranch']).size().reset_index(name = 'COUNT').sort_values('COUNT', ascending=False)\n",
    "\n",
    "plt.figure(figsize=(15,5))\n",
    "sns.barplot(data=dfg_main_branch, x=\"COUNT\", y=\"MainBranch\", orient=\"h\")"
   ]
  },
  {
   "cell_type": "markdown",
   "metadata": {},
   "source": [
    "### Emprego\n",
    "\n"
   ]
  },
  {
   "cell_type": "markdown",
   "metadata": {},
   "source": [
    "Para a próxima visualização precisamos extrair as alternativas possíveis, pois se trata de uma questão de múltipla escolha."
   ]
  },
  {
   "cell_type": "code",
   "execution_count": 60,
   "metadata": {},
   "outputs": [
    {
     "data": {
      "text/plain": [
       "{'employed_full_time',\n",
       " 'employed_part_time',\n",
       " 'independent',\n",
       " 'opt_out',\n",
       " 'retired',\n",
       " 'student_full_time',\n",
       " 'student_part_time',\n",
       " 'unemployed_looking',\n",
       " 'unemployed_not_looking'}"
      ]
     },
     "execution_count": 60,
     "metadata": {},
     "output_type": "execute_result"
    }
   ],
   "source": [
    "employment_categories = set(chain.from_iterable(x.split(\";\") for x in df['Employment'] if isinstance(x, str)))\n",
    "employment_categories"
   ]
  },
  {
   "cell_type": "markdown",
   "metadata": {},
   "source": [
    "Assim podemos observar a quantidade de respondentes que marcaram cada opção, lembrando que se trata de uma questão de múltipla escolha."
   ]
  },
  {
   "cell_type": "code",
   "execution_count": 58,
   "metadata": {},
   "outputs": [
    {
     "data": {
      "text/plain": [
       "<AxesSubplot:xlabel='count', ylabel='category'>"
      ]
     },
     "execution_count": 58,
     "metadata": {},
     "output_type": "execute_result"
    },
    {
     "data": {
      "image/png": "[encoded data removed]",
      "text/plain": [
       "<Figure size 1440x576 with 1 Axes>"
      ]
     },
     "metadata": {},
     "output_type": "display_data"
    }
   ],
   "source": [
    "dfg_employment = pd.DataFrame()\n",
    "\n",
    "for category in employment_categories:\n",
    "  dfg_employment = dfg_employment.append({'category': category, 'count': df['Employment'].str.contains(category).sum()}, ignore_index=True)\n",
    "\n",
    "dfg_employment = dfg_employment.sort_values('count', ascending=False)\n",
    "\n",
    "plt.figure(figsize=(20,9))\n",
    "sns.barplot(data=dfg_employment, x=\"count\", y=\"category\", orient=\"h\")"
   ]
  },
  {
   "cell_type": "markdown",
   "metadata": {},
   "source": [
    "No gráfico abaixo observamos que a maioria dos respondentes trabalham de forma remota ou híbrida, enquanto poucos trabalham pessoalmente."
   ]
  },
  {
   "cell_type": "code",
   "execution_count": 62,
   "metadata": {},
   "outputs": [
    {
     "data": {
      "text/plain": [
       "<AxesSubplot:xlabel='COUNT', ylabel='RemoteWork'>"
      ]
     },
     "execution_count": 62,
     "metadata": {},
     "output_type": "execute_result"
    },
    {
     "data": {
      "image/png": "[encoded data removed]",
      "text/plain": [
       "<Figure size 1440x216 with 1 Axes>"
      ]
     },
     "metadata": {},
     "output_type": "display_data"
    }
   ],
   "source": [
    "dfg_remote_work = df.groupby(['RemoteWork']).size().reset_index(name = 'COUNT').sort_values('COUNT', ascending=False)\n",
    "\n",
    "plt.figure(figsize=(20,3))\n",
    "sns.barplot(data=dfg_remote_work, x=\"COUNT\", y=\"RemoteWork\", orient=\"h\")"
   ]
  },
  {
   "cell_type": "markdown",
   "metadata": {},
   "source": [
    "### Atividades"
   ]
  },
  {
   "cell_type": "markdown",
   "metadata": {},
   "source": [
    "Novamente precisamos extrair as alternativas possíveis, pois se trata de uma questão de múltipla escolha."
   ]
  },
  {
   "cell_type": "code",
   "execution_count": 63,
   "metadata": {},
   "outputs": [
    {
     "data": {
      "text/plain": [
       "{'business',\n",
       " 'freelance',\n",
       " 'hobby',\n",
       " 'i_don’t_code_outside_of_work',\n",
       " 'open_source',\n",
       " 'other_(please_specify):',\n",
       " 'school'}"
      ]
     },
     "execution_count": 63,
     "metadata": {},
     "output_type": "execute_result"
    }
   ],
   "source": [
    "activities_categories = set(chain.from_iterable(x.split(\";\") for x in df['CodingActivities'] if isinstance(x, str)))\n",
    "activities_categories"
   ]
  },
  {
   "cell_type": "markdown",
   "metadata": {},
   "source": [
    "Assim podemos observar a quantidade de respondentes que marcaram cada opção, lembrando que se trata de uma questão de múltipla escolha."
   ]
  },
  {
   "cell_type": "code",
   "execution_count": 65,
   "metadata": {},
   "outputs": [
    {
     "name": "stderr",
     "output_type": "stream",
     "text": [
      "C:\\Users\\nicbu\\AppData\\Local\\Temp\\ipykernel_8964\\3219123141.py:4: UserWarning: This pattern is interpreted as a regular expression, and has match groups. To actually get the groups, use str.extract.\n",
      "  dfg_activities = dfg_activities.append({'category': category, 'count': df['CodingActivities'].str.contains(category).sum()}, ignore_index=True)\n"
     ]
    },
    {
     "data": {
      "text/plain": [
       "<AxesSubplot:xlabel='count', ylabel='category'>"
      ]
     },
     "execution_count": 65,
     "metadata": {},
     "output_type": "execute_result"
    },
    {
     "data": {
      "image/png": "[encoded data removed]",
      "text/plain": [
       "<Figure size 1440x504 with 1 Axes>"
      ]
     },
     "metadata": {},
     "output_type": "display_data"
    }
   ],
   "source": [
    "dfg_activities = pd.DataFrame()\n",
    "\n",
    "for category in activities_categories:\n",
    "  dfg_activities = dfg_activities.append({'category': category, 'count': df['CodingActivities'].str.contains(category).sum()}, ignore_index=True)\n",
    "\n",
    "dfg_activities = dfg_activities.sort_values('count', ascending=False)\n",
    "\n",
    "plt.figure(figsize=(20,7))\n",
    "sns.barplot(data=dfg_activities, x=\"count\", y=\"category\", orient=\"h\")"
   ]
  },
  {
   "cell_type": "markdown",
   "metadata": {},
   "source": [
    "### Nível de educação"
   ]
  },
  {
   "cell_type": "code",
   "execution_count": 67,
   "metadata": {},
   "outputs": [
    {
     "data": {
      "text/plain": [
       "<AxesSubplot:xlabel='COUNT', ylabel='EdLevel'>"
      ]
     },
     "execution_count": 67,
     "metadata": {},
     "output_type": "execute_result"
    },
    {
     "data": {
      "image/png": "[encoded data removed]",
      "text/plain": [
       "<Figure size 1440x648 with 1 Axes>"
      ]
     },
     "metadata": {},
     "output_type": "display_data"
    }
   ],
   "source": [
    "dfg_ed_level = df.groupby(['EdLevel']).size().reset_index(name = 'COUNT').sort_values('COUNT', ascending=False)\n",
    "\n",
    "plt.figure(figsize=(20,9))\n",
    "sns.barplot(data=dfg_ed_level, x=\"COUNT\", y=\"EdLevel\", orient=\"h\")"
   ]
  },
  {
   "cell_type": "markdown",
   "metadata": {},
   "source": [
    "### Métodos de aprendizagem"
   ]
  },
  {
   "cell_type": "markdown",
   "metadata": {},
   "source": [
    "Novamente precisamos extrair as alternativas possíveis, pois se trata de uma questão de múltipla escolha."
   ]
  },
  {
   "cell_type": "code",
   "execution_count": 68,
   "metadata": {},
   "outputs": [
    {
     "data": {
      "text/plain": [
       "{'books',\n",
       " 'bootcamp',\n",
       " 'colleague',\n",
       " 'hackathons_(virtual_or_in_person)',\n",
       " 'job',\n",
       " 'online_course',\n",
       " 'other_(please_specify):',\n",
       " 'other_online_resources_(e.g._videos_blogs_forum)',\n",
       " 'school_(i.e._university_college_etc)',\n",
       " 'someone'}"
      ]
     },
     "execution_count": 68,
     "metadata": {},
     "output_type": "execute_result"
    }
   ],
   "source": [
    "learncode_categories = set(chain.from_iterable(x.split(\";\") for x in df['LearnCode'] if isinstance(x, str)))\n",
    "learncode_categories"
   ]
  },
  {
   "cell_type": "markdown",
   "metadata": {},
   "source": [
    "Assim podemos observar a quantidade de respondentes que marcaram cada opção, lembrando que se trata de uma questão de múltipla escolha."
   ]
  },
  {
   "cell_type": "code",
   "execution_count": 70,
   "metadata": {},
   "outputs": [
    {
     "name": "stderr",
     "output_type": "stream",
     "text": [
      "C:\\Users\\nicbu\\AppData\\Local\\Temp\\ipykernel_8964\\1380938098.py:4: UserWarning: This pattern is interpreted as a regular expression, and has match groups. To actually get the groups, use str.extract.\n",
      "  dfg_learncode = dfg_learncode.append({'category': category, 'count': df['LearnCode'].str.contains(category).sum()}, ignore_index=True)\n",
      "C:\\Users\\nicbu\\AppData\\Local\\Temp\\ipykernel_8964\\1380938098.py:4: UserWarning: This pattern is interpreted as a regular expression, and has match groups. To actually get the groups, use str.extract.\n",
      "  dfg_learncode = dfg_learncode.append({'category': category, 'count': df['LearnCode'].str.contains(category).sum()}, ignore_index=True)\n",
      "C:\\Users\\nicbu\\AppData\\Local\\Temp\\ipykernel_8964\\1380938098.py:4: UserWarning: This pattern is interpreted as a regular expression, and has match groups. To actually get the groups, use str.extract.\n",
      "  dfg_learncode = dfg_learncode.append({'category': category, 'count': df['LearnCode'].str.contains(category).sum()}, ignore_index=True)\n",
      "C:\\Users\\nicbu\\AppData\\Local\\Temp\\ipykernel_8964\\1380938098.py:4: UserWarning: This pattern is interpreted as a regular expression, and has match groups. To actually get the groups, use str.extract.\n",
      "  dfg_learncode = dfg_learncode.append({'category': category, 'count': df['LearnCode'].str.contains(category).sum()}, ignore_index=True)\n"
     ]
    },
    {
     "data": {
      "text/plain": [
       "<AxesSubplot:xlabel='count', ylabel='category'>"
      ]
     },
     "execution_count": 70,
     "metadata": {},
     "output_type": "execute_result"
    },
    {
     "data": {
      "image/png": "[encoded data removed]",
      "text/plain": [
       "<Figure size 1440x504 with 1 Axes>"
      ]
     },
     "metadata": {},
     "output_type": "display_data"
    }
   ],
   "source": [
    "dfg_learncode = pd.DataFrame()\n",
    "\n",
    "for category in learncode_categories:\n",
    "  dfg_learncode = dfg_learncode.append({'category': category, 'count': df['LearnCode'].str.contains(category).sum()}, ignore_index=True)\n",
    "\n",
    "dfg_learncode = dfg_learncode.sort_values('count', ascending=False)\n",
    "\n",
    "plt.figure(figsize=(20,7))\n",
    "sns.barplot(data=dfg_learncode, x=\"count\", y=\"category\", orient=\"h\")"
   ]
  },
  {
   "cell_type": "markdown",
   "metadata": {},
   "source": [
    "### Experiência "
   ]
  },
  {
   "cell_type": "code",
   "execution_count": null,
   "metadata": {},
   "outputs": [],
   "source": [
    "# TODO converter YearsCode para número e descartar <1 e >50"
   ]
  }
 ],
 "metadata": {
  "kernelspec": {
   "display_name": "Python 3.9.12 ('base')",
   "language": "python",
   "name": "python3"
  },
  "language_info": {
   "codemirror_mode": {
    "name": "ipython",
    "version": 3
   },
   "file_extension": ".py",
   "mimetype": "text/x-python",
   "name": "python",
   "nbconvert_exporter": "python",
   "pygments_lexer": "ipython3",
   "version": "3.9.12"
  },
  "orig_nbformat": 4,
  "vscode": {
   "interpreter": {
    "hash": "9f4b0e2ea0d532abee2ce5032a659fdabae911351ff90655966afe3d19270f8c"
   }
  }
 },
 "nbformat": 4,
 "nbformat_minor": 2
}
